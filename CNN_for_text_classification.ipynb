{
  "nbformat": 4,
  "nbformat_minor": 0,
  "metadata": {
    "accelerator": "GPU",
    "colab": {
      "name": "CNN for text classification.ipynb",
      "provenance": [],
      "collapsed_sections": [],
      "include_colab_link": true
    },
    "kernelspec": {
      "display_name": "Python 3",
      "language": "python",
      "name": "python3"
    },
    "language_info": {
      "codemirror_mode": {
        "name": "ipython",
        "version": 3
      },
      "file_extension": ".py",
      "mimetype": "text/x-python",
      "name": "python",
      "nbconvert_exporter": "python",
      "pygments_lexer": "ipython3",
      "version": "3.7.4"
    }
  },
  "cells": [
    {
      "cell_type": "markdown",
      "metadata": {
        "id": "view-in-github",
        "colab_type": "text"
      },
      "source": [
        "<a href=\"https://colab.research.google.com/github/poojaram14/Toxic_comment_classification/blob/main/CNN_for_text_classification.ipynb\" target=\"_parent\"><img src=\"https://colab.research.google.com/assets/colab-badge.svg\" alt=\"Open In Colab\"/></a>"
      ]
    },
    {
      "cell_type": "markdown",
      "source": [
        "# Toxic Comments Classification Using CNN"
      ],
      "metadata": {
        "id": "Aq3Ne5SbLPV9"
      }
    },
    {
      "cell_type": "code",
      "metadata": {
        "id": "PvVbtuzBsHDO"
      },
      "source": [
        "import re\n",
        "import numpy as np\n",
        "import pandas as pd\n",
        "import sklearn\n",
        "from sklearn.manifold import TSNE\n",
        "from sklearn import metrics\n",
        "from sklearn.metrics import accuracy_score\n",
        "from sklearn.model_selection import train_test_split\n",
        "import seaborn as sns\n",
        "import matplotlib.pyplot as plt\n",
        "import tensorflow as tf\n",
        "from tensorflow.keras.layers import Embedding, Conv1D, MaxPooling1D, GlobalMaxPooling1D, Dense, Activation, Dropout\n",
        "from tensorflow.keras.models import Sequential\n",
        "from tensorflow.keras.preprocessing import text, sequence\n",
        "from tensorflow.keras.wrappers.scikit_learn import KerasClassifier"
      ],
      "execution_count": 1,
      "outputs": []
    },
    {
      "cell_type": "code",
      "metadata": {
        "id": "KLqhFuE2sHDp",
        "outputId": "c568f58c-38cc-4488-9101-704a7a2aec03",
        "colab": {
          "base_uri": "https://localhost:8080/",
          "height": 363
        }
      },
      "source": [
        "# Reading the train data. \n",
        "train = pd.read_csv(\"train.csv\")\n",
        "train.head(10)"
      ],
      "execution_count": 2,
      "outputs": [
        {
          "output_type": "execute_result",
          "data": {
            "text/plain": [
              "                 id                                       comment_text  toxic  \\\n",
              "0  0000997932d777bf  Explanation\\nWhy the edits made under my usern...      0   \n",
              "1  000103f0d9cfb60f  D'aww! He matches this background colour I'm s...      0   \n",
              "2  000113f07ec002fd  Hey man, I'm really not trying to edit war. It...      0   \n",
              "3  0001b41b1c6bb37e  \"\\nMore\\nI can't make any real suggestions on ...      0   \n",
              "4  0001d958c54c6e35  You, sir, are my hero. Any chance you remember...      0   \n",
              "5  00025465d4725e87  \"\\n\\nCongratulations from me as well, use the ...      0   \n",
              "6  0002bcb3da6cb337       COCKSUCKER BEFORE YOU PISS AROUND ON MY WORK      1   \n",
              "7  00031b1e95af7921  Your vandalism to the Matt Shirvington article...      0   \n",
              "8  00037261f536c51d  Sorry if the word 'nonsense' was offensive to ...      0   \n",
              "9  00040093b2687caa  alignment on this subject and which are contra...      0   \n",
              "\n",
              "   severe_toxic  obscene  threat  insult  identity_hate  \n",
              "0             0        0       0       0              0  \n",
              "1             0        0       0       0              0  \n",
              "2             0        0       0       0              0  \n",
              "3             0        0       0       0              0  \n",
              "4             0        0       0       0              0  \n",
              "5             0        0       0       0              0  \n",
              "6             1        1       0       1              0  \n",
              "7             0        0       0       0              0  \n",
              "8             0        0       0       0              0  \n",
              "9             0        0       0       0              0  "
            ],
            "text/html": [
              "\n",
              "  <div id=\"df-46fe2b3a-9877-4494-80a1-8b149b8286d1\">\n",
              "    <div class=\"colab-df-container\">\n",
              "      <div>\n",
              "<style scoped>\n",
              "    .dataframe tbody tr th:only-of-type {\n",
              "        vertical-align: middle;\n",
              "    }\n",
              "\n",
              "    .dataframe tbody tr th {\n",
              "        vertical-align: top;\n",
              "    }\n",
              "\n",
              "    .dataframe thead th {\n",
              "        text-align: right;\n",
              "    }\n",
              "</style>\n",
              "<table border=\"1\" class=\"dataframe\">\n",
              "  <thead>\n",
              "    <tr style=\"text-align: right;\">\n",
              "      <th></th>\n",
              "      <th>id</th>\n",
              "      <th>comment_text</th>\n",
              "      <th>toxic</th>\n",
              "      <th>severe_toxic</th>\n",
              "      <th>obscene</th>\n",
              "      <th>threat</th>\n",
              "      <th>insult</th>\n",
              "      <th>identity_hate</th>\n",
              "    </tr>\n",
              "  </thead>\n",
              "  <tbody>\n",
              "    <tr>\n",
              "      <th>0</th>\n",
              "      <td>0000997932d777bf</td>\n",
              "      <td>Explanation\\nWhy the edits made under my usern...</td>\n",
              "      <td>0</td>\n",
              "      <td>0</td>\n",
              "      <td>0</td>\n",
              "      <td>0</td>\n",
              "      <td>0</td>\n",
              "      <td>0</td>\n",
              "    </tr>\n",
              "    <tr>\n",
              "      <th>1</th>\n",
              "      <td>000103f0d9cfb60f</td>\n",
              "      <td>D'aww! He matches this background colour I'm s...</td>\n",
              "      <td>0</td>\n",
              "      <td>0</td>\n",
              "      <td>0</td>\n",
              "      <td>0</td>\n",
              "      <td>0</td>\n",
              "      <td>0</td>\n",
              "    </tr>\n",
              "    <tr>\n",
              "      <th>2</th>\n",
              "      <td>000113f07ec002fd</td>\n",
              "      <td>Hey man, I'm really not trying to edit war. It...</td>\n",
              "      <td>0</td>\n",
              "      <td>0</td>\n",
              "      <td>0</td>\n",
              "      <td>0</td>\n",
              "      <td>0</td>\n",
              "      <td>0</td>\n",
              "    </tr>\n",
              "    <tr>\n",
              "      <th>3</th>\n",
              "      <td>0001b41b1c6bb37e</td>\n",
              "      <td>\"\\nMore\\nI can't make any real suggestions on ...</td>\n",
              "      <td>0</td>\n",
              "      <td>0</td>\n",
              "      <td>0</td>\n",
              "      <td>0</td>\n",
              "      <td>0</td>\n",
              "      <td>0</td>\n",
              "    </tr>\n",
              "    <tr>\n",
              "      <th>4</th>\n",
              "      <td>0001d958c54c6e35</td>\n",
              "      <td>You, sir, are my hero. Any chance you remember...</td>\n",
              "      <td>0</td>\n",
              "      <td>0</td>\n",
              "      <td>0</td>\n",
              "      <td>0</td>\n",
              "      <td>0</td>\n",
              "      <td>0</td>\n",
              "    </tr>\n",
              "    <tr>\n",
              "      <th>5</th>\n",
              "      <td>00025465d4725e87</td>\n",
              "      <td>\"\\n\\nCongratulations from me as well, use the ...</td>\n",
              "      <td>0</td>\n",
              "      <td>0</td>\n",
              "      <td>0</td>\n",
              "      <td>0</td>\n",
              "      <td>0</td>\n",
              "      <td>0</td>\n",
              "    </tr>\n",
              "    <tr>\n",
              "      <th>6</th>\n",
              "      <td>0002bcb3da6cb337</td>\n",
              "      <td>COCKSUCKER BEFORE YOU PISS AROUND ON MY WORK</td>\n",
              "      <td>1</td>\n",
              "      <td>1</td>\n",
              "      <td>1</td>\n",
              "      <td>0</td>\n",
              "      <td>1</td>\n",
              "      <td>0</td>\n",
              "    </tr>\n",
              "    <tr>\n",
              "      <th>7</th>\n",
              "      <td>00031b1e95af7921</td>\n",
              "      <td>Your vandalism to the Matt Shirvington article...</td>\n",
              "      <td>0</td>\n",
              "      <td>0</td>\n",
              "      <td>0</td>\n",
              "      <td>0</td>\n",
              "      <td>0</td>\n",
              "      <td>0</td>\n",
              "    </tr>\n",
              "    <tr>\n",
              "      <th>8</th>\n",
              "      <td>00037261f536c51d</td>\n",
              "      <td>Sorry if the word 'nonsense' was offensive to ...</td>\n",
              "      <td>0</td>\n",
              "      <td>0</td>\n",
              "      <td>0</td>\n",
              "      <td>0</td>\n",
              "      <td>0</td>\n",
              "      <td>0</td>\n",
              "    </tr>\n",
              "    <tr>\n",
              "      <th>9</th>\n",
              "      <td>00040093b2687caa</td>\n",
              "      <td>alignment on this subject and which are contra...</td>\n",
              "      <td>0</td>\n",
              "      <td>0</td>\n",
              "      <td>0</td>\n",
              "      <td>0</td>\n",
              "      <td>0</td>\n",
              "      <td>0</td>\n",
              "    </tr>\n",
              "  </tbody>\n",
              "</table>\n",
              "</div>\n",
              "      <button class=\"colab-df-convert\" onclick=\"convertToInteractive('df-46fe2b3a-9877-4494-80a1-8b149b8286d1')\"\n",
              "              title=\"Convert this dataframe to an interactive table.\"\n",
              "              style=\"display:none;\">\n",
              "        \n",
              "  <svg xmlns=\"http://www.w3.org/2000/svg\" height=\"24px\"viewBox=\"0 0 24 24\"\n",
              "       width=\"24px\">\n",
              "    <path d=\"M0 0h24v24H0V0z\" fill=\"none\"/>\n",
              "    <path d=\"M18.56 5.44l.94 2.06.94-2.06 2.06-.94-2.06-.94-.94-2.06-.94 2.06-2.06.94zm-11 1L8.5 8.5l.94-2.06 2.06-.94-2.06-.94L8.5 2.5l-.94 2.06-2.06.94zm10 10l.94 2.06.94-2.06 2.06-.94-2.06-.94-.94-2.06-.94 2.06-2.06.94z\"/><path d=\"M17.41 7.96l-1.37-1.37c-.4-.4-.92-.59-1.43-.59-.52 0-1.04.2-1.43.59L10.3 9.45l-7.72 7.72c-.78.78-.78 2.05 0 2.83L4 21.41c.39.39.9.59 1.41.59.51 0 1.02-.2 1.41-.59l7.78-7.78 2.81-2.81c.8-.78.8-2.07 0-2.86zM5.41 20L4 18.59l7.72-7.72 1.47 1.35L5.41 20z\"/>\n",
              "  </svg>\n",
              "      </button>\n",
              "      \n",
              "  <style>\n",
              "    .colab-df-container {\n",
              "      display:flex;\n",
              "      flex-wrap:wrap;\n",
              "      gap: 12px;\n",
              "    }\n",
              "\n",
              "    .colab-df-convert {\n",
              "      background-color: #E8F0FE;\n",
              "      border: none;\n",
              "      border-radius: 50%;\n",
              "      cursor: pointer;\n",
              "      display: none;\n",
              "      fill: #1967D2;\n",
              "      height: 32px;\n",
              "      padding: 0 0 0 0;\n",
              "      width: 32px;\n",
              "    }\n",
              "\n",
              "    .colab-df-convert:hover {\n",
              "      background-color: #E2EBFA;\n",
              "      box-shadow: 0px 1px 2px rgba(60, 64, 67, 0.3), 0px 1px 3px 1px rgba(60, 64, 67, 0.15);\n",
              "      fill: #174EA6;\n",
              "    }\n",
              "\n",
              "    [theme=dark] .colab-df-convert {\n",
              "      background-color: #3B4455;\n",
              "      fill: #D2E3FC;\n",
              "    }\n",
              "\n",
              "    [theme=dark] .colab-df-convert:hover {\n",
              "      background-color: #434B5C;\n",
              "      box-shadow: 0px 1px 3px 1px rgba(0, 0, 0, 0.15);\n",
              "      filter: drop-shadow(0px 1px 2px rgba(0, 0, 0, 0.3));\n",
              "      fill: #FFFFFF;\n",
              "    }\n",
              "  </style>\n",
              "\n",
              "      <script>\n",
              "        const buttonEl =\n",
              "          document.querySelector('#df-46fe2b3a-9877-4494-80a1-8b149b8286d1 button.colab-df-convert');\n",
              "        buttonEl.style.display =\n",
              "          google.colab.kernel.accessAllowed ? 'block' : 'none';\n",
              "\n",
              "        async function convertToInteractive(key) {\n",
              "          const element = document.querySelector('#df-46fe2b3a-9877-4494-80a1-8b149b8286d1');\n",
              "          const dataTable =\n",
              "            await google.colab.kernel.invokeFunction('convertToInteractive',\n",
              "                                                     [key], {});\n",
              "          if (!dataTable) return;\n",
              "\n",
              "          const docLinkHtml = 'Like what you see? Visit the ' +\n",
              "            '<a target=\"_blank\" href=https://colab.research.google.com/notebooks/data_table.ipynb>data table notebook</a>'\n",
              "            + ' to learn more about interactive tables.';\n",
              "          element.innerHTML = '';\n",
              "          dataTable['output_type'] = 'display_data';\n",
              "          await google.colab.output.renderOutput(dataTable, element);\n",
              "          const docLink = document.createElement('div');\n",
              "          docLink.innerHTML = docLinkHtml;\n",
              "          element.appendChild(docLink);\n",
              "        }\n",
              "      </script>\n",
              "    </div>\n",
              "  </div>\n",
              "  "
            ]
          },
          "metadata": {},
          "execution_count": 2
        }
      ]
    },
    {
      "cell_type": "code",
      "metadata": {
        "id": "23ODq4EKrkTo",
        "outputId": "9347683b-153e-4874-f1f1-ab191005e45a",
        "colab": {
          "base_uri": "https://localhost:8080/",
          "height": 300
        }
      },
      "source": [
        "# Summary of train data.\n",
        "train.describe()"
      ],
      "execution_count": 3,
      "outputs": [
        {
          "output_type": "execute_result",
          "data": {
            "text/plain": [
              "               toxic   severe_toxic        obscene         threat  \\\n",
              "count  159571.000000  159571.000000  159571.000000  159571.000000   \n",
              "mean        0.095844       0.009996       0.052948       0.002996   \n",
              "std         0.294379       0.099477       0.223931       0.054650   \n",
              "min         0.000000       0.000000       0.000000       0.000000   \n",
              "25%         0.000000       0.000000       0.000000       0.000000   \n",
              "50%         0.000000       0.000000       0.000000       0.000000   \n",
              "75%         0.000000       0.000000       0.000000       0.000000   \n",
              "max         1.000000       1.000000       1.000000       1.000000   \n",
              "\n",
              "              insult  identity_hate  \n",
              "count  159571.000000  159571.000000  \n",
              "mean        0.049364       0.008805  \n",
              "std         0.216627       0.093420  \n",
              "min         0.000000       0.000000  \n",
              "25%         0.000000       0.000000  \n",
              "50%         0.000000       0.000000  \n",
              "75%         0.000000       0.000000  \n",
              "max         1.000000       1.000000  "
            ],
            "text/html": [
              "\n",
              "  <div id=\"df-81447745-d7ed-4fc7-86d6-8cf8bbf5206a\">\n",
              "    <div class=\"colab-df-container\">\n",
              "      <div>\n",
              "<style scoped>\n",
              "    .dataframe tbody tr th:only-of-type {\n",
              "        vertical-align: middle;\n",
              "    }\n",
              "\n",
              "    .dataframe tbody tr th {\n",
              "        vertical-align: top;\n",
              "    }\n",
              "\n",
              "    .dataframe thead th {\n",
              "        text-align: right;\n",
              "    }\n",
              "</style>\n",
              "<table border=\"1\" class=\"dataframe\">\n",
              "  <thead>\n",
              "    <tr style=\"text-align: right;\">\n",
              "      <th></th>\n",
              "      <th>toxic</th>\n",
              "      <th>severe_toxic</th>\n",
              "      <th>obscene</th>\n",
              "      <th>threat</th>\n",
              "      <th>insult</th>\n",
              "      <th>identity_hate</th>\n",
              "    </tr>\n",
              "  </thead>\n",
              "  <tbody>\n",
              "    <tr>\n",
              "      <th>count</th>\n",
              "      <td>159571.000000</td>\n",
              "      <td>159571.000000</td>\n",
              "      <td>159571.000000</td>\n",
              "      <td>159571.000000</td>\n",
              "      <td>159571.000000</td>\n",
              "      <td>159571.000000</td>\n",
              "    </tr>\n",
              "    <tr>\n",
              "      <th>mean</th>\n",
              "      <td>0.095844</td>\n",
              "      <td>0.009996</td>\n",
              "      <td>0.052948</td>\n",
              "      <td>0.002996</td>\n",
              "      <td>0.049364</td>\n",
              "      <td>0.008805</td>\n",
              "    </tr>\n",
              "    <tr>\n",
              "      <th>std</th>\n",
              "      <td>0.294379</td>\n",
              "      <td>0.099477</td>\n",
              "      <td>0.223931</td>\n",
              "      <td>0.054650</td>\n",
              "      <td>0.216627</td>\n",
              "      <td>0.093420</td>\n",
              "    </tr>\n",
              "    <tr>\n",
              "      <th>min</th>\n",
              "      <td>0.000000</td>\n",
              "      <td>0.000000</td>\n",
              "      <td>0.000000</td>\n",
              "      <td>0.000000</td>\n",
              "      <td>0.000000</td>\n",
              "      <td>0.000000</td>\n",
              "    </tr>\n",
              "    <tr>\n",
              "      <th>25%</th>\n",
              "      <td>0.000000</td>\n",
              "      <td>0.000000</td>\n",
              "      <td>0.000000</td>\n",
              "      <td>0.000000</td>\n",
              "      <td>0.000000</td>\n",
              "      <td>0.000000</td>\n",
              "    </tr>\n",
              "    <tr>\n",
              "      <th>50%</th>\n",
              "      <td>0.000000</td>\n",
              "      <td>0.000000</td>\n",
              "      <td>0.000000</td>\n",
              "      <td>0.000000</td>\n",
              "      <td>0.000000</td>\n",
              "      <td>0.000000</td>\n",
              "    </tr>\n",
              "    <tr>\n",
              "      <th>75%</th>\n",
              "      <td>0.000000</td>\n",
              "      <td>0.000000</td>\n",
              "      <td>0.000000</td>\n",
              "      <td>0.000000</td>\n",
              "      <td>0.000000</td>\n",
              "      <td>0.000000</td>\n",
              "    </tr>\n",
              "    <tr>\n",
              "      <th>max</th>\n",
              "      <td>1.000000</td>\n",
              "      <td>1.000000</td>\n",
              "      <td>1.000000</td>\n",
              "      <td>1.000000</td>\n",
              "      <td>1.000000</td>\n",
              "      <td>1.000000</td>\n",
              "    </tr>\n",
              "  </tbody>\n",
              "</table>\n",
              "</div>\n",
              "      <button class=\"colab-df-convert\" onclick=\"convertToInteractive('df-81447745-d7ed-4fc7-86d6-8cf8bbf5206a')\"\n",
              "              title=\"Convert this dataframe to an interactive table.\"\n",
              "              style=\"display:none;\">\n",
              "        \n",
              "  <svg xmlns=\"http://www.w3.org/2000/svg\" height=\"24px\"viewBox=\"0 0 24 24\"\n",
              "       width=\"24px\">\n",
              "    <path d=\"M0 0h24v24H0V0z\" fill=\"none\"/>\n",
              "    <path d=\"M18.56 5.44l.94 2.06.94-2.06 2.06-.94-2.06-.94-.94-2.06-.94 2.06-2.06.94zm-11 1L8.5 8.5l.94-2.06 2.06-.94-2.06-.94L8.5 2.5l-.94 2.06-2.06.94zm10 10l.94 2.06.94-2.06 2.06-.94-2.06-.94-.94-2.06-.94 2.06-2.06.94z\"/><path d=\"M17.41 7.96l-1.37-1.37c-.4-.4-.92-.59-1.43-.59-.52 0-1.04.2-1.43.59L10.3 9.45l-7.72 7.72c-.78.78-.78 2.05 0 2.83L4 21.41c.39.39.9.59 1.41.59.51 0 1.02-.2 1.41-.59l7.78-7.78 2.81-2.81c.8-.78.8-2.07 0-2.86zM5.41 20L4 18.59l7.72-7.72 1.47 1.35L5.41 20z\"/>\n",
              "  </svg>\n",
              "      </button>\n",
              "      \n",
              "  <style>\n",
              "    .colab-df-container {\n",
              "      display:flex;\n",
              "      flex-wrap:wrap;\n",
              "      gap: 12px;\n",
              "    }\n",
              "\n",
              "    .colab-df-convert {\n",
              "      background-color: #E8F0FE;\n",
              "      border: none;\n",
              "      border-radius: 50%;\n",
              "      cursor: pointer;\n",
              "      display: none;\n",
              "      fill: #1967D2;\n",
              "      height: 32px;\n",
              "      padding: 0 0 0 0;\n",
              "      width: 32px;\n",
              "    }\n",
              "\n",
              "    .colab-df-convert:hover {\n",
              "      background-color: #E2EBFA;\n",
              "      box-shadow: 0px 1px 2px rgba(60, 64, 67, 0.3), 0px 1px 3px 1px rgba(60, 64, 67, 0.15);\n",
              "      fill: #174EA6;\n",
              "    }\n",
              "\n",
              "    [theme=dark] .colab-df-convert {\n",
              "      background-color: #3B4455;\n",
              "      fill: #D2E3FC;\n",
              "    }\n",
              "\n",
              "    [theme=dark] .colab-df-convert:hover {\n",
              "      background-color: #434B5C;\n",
              "      box-shadow: 0px 1px 3px 1px rgba(0, 0, 0, 0.15);\n",
              "      filter: drop-shadow(0px 1px 2px rgba(0, 0, 0, 0.3));\n",
              "      fill: #FFFFFF;\n",
              "    }\n",
              "  </style>\n",
              "\n",
              "      <script>\n",
              "        const buttonEl =\n",
              "          document.querySelector('#df-81447745-d7ed-4fc7-86d6-8cf8bbf5206a button.colab-df-convert');\n",
              "        buttonEl.style.display =\n",
              "          google.colab.kernel.accessAllowed ? 'block' : 'none';\n",
              "\n",
              "        async function convertToInteractive(key) {\n",
              "          const element = document.querySelector('#df-81447745-d7ed-4fc7-86d6-8cf8bbf5206a');\n",
              "          const dataTable =\n",
              "            await google.colab.kernel.invokeFunction('convertToInteractive',\n",
              "                                                     [key], {});\n",
              "          if (!dataTable) return;\n",
              "\n",
              "          const docLinkHtml = 'Like what you see? Visit the ' +\n",
              "            '<a target=\"_blank\" href=https://colab.research.google.com/notebooks/data_table.ipynb>data table notebook</a>'\n",
              "            + ' to learn more about interactive tables.';\n",
              "          element.innerHTML = '';\n",
              "          dataTable['output_type'] = 'display_data';\n",
              "          await google.colab.output.renderOutput(dataTable, element);\n",
              "          const docLink = document.createElement('div');\n",
              "          docLink.innerHTML = docLinkHtml;\n",
              "          element.appendChild(docLink);\n",
              "        }\n",
              "      </script>\n",
              "    </div>\n",
              "  </div>\n",
              "  "
            ]
          },
          "metadata": {},
          "execution_count": 3
        }
      ]
    },
    {
      "cell_type": "code",
      "metadata": {
        "id": "UZZf26zrrkTt",
        "outputId": "267a01fc-822f-4ac3-c2f5-99371b29953f",
        "colab": {
          "base_uri": "https://localhost:8080/",
          "height": 206
        }
      },
      "source": [
        "# Reading the test data.\n",
        "test = pd.read_csv(\"test.csv\")\n",
        "test.head(5)"
      ],
      "execution_count": 4,
      "outputs": [
        {
          "output_type": "execute_result",
          "data": {
            "text/plain": [
              "                 id                                       comment_text\n",
              "0  00001cee341fdb12  Yo bitch Ja Rule is more succesful then you'll...\n",
              "1  0000247867823ef7  == From RfC == \\n\\n The title is fine as it is...\n",
              "2  00013b17ad220c46  \" \\n\\n == Sources == \\n\\n * Zawe Ashton on Lap...\n",
              "3  00017563c3f7919a  :If you have a look back at the source, the in...\n",
              "4  00017695ad8997eb          I don't anonymously edit articles at all."
            ],
            "text/html": [
              "\n",
              "  <div id=\"df-54f6f541-c022-4f98-9aae-71b1472474bb\">\n",
              "    <div class=\"colab-df-container\">\n",
              "      <div>\n",
              "<style scoped>\n",
              "    .dataframe tbody tr th:only-of-type {\n",
              "        vertical-align: middle;\n",
              "    }\n",
              "\n",
              "    .dataframe tbody tr th {\n",
              "        vertical-align: top;\n",
              "    }\n",
              "\n",
              "    .dataframe thead th {\n",
              "        text-align: right;\n",
              "    }\n",
              "</style>\n",
              "<table border=\"1\" class=\"dataframe\">\n",
              "  <thead>\n",
              "    <tr style=\"text-align: right;\">\n",
              "      <th></th>\n",
              "      <th>id</th>\n",
              "      <th>comment_text</th>\n",
              "    </tr>\n",
              "  </thead>\n",
              "  <tbody>\n",
              "    <tr>\n",
              "      <th>0</th>\n",
              "      <td>00001cee341fdb12</td>\n",
              "      <td>Yo bitch Ja Rule is more succesful then you'll...</td>\n",
              "    </tr>\n",
              "    <tr>\n",
              "      <th>1</th>\n",
              "      <td>0000247867823ef7</td>\n",
              "      <td>== From RfC == \\n\\n The title is fine as it is...</td>\n",
              "    </tr>\n",
              "    <tr>\n",
              "      <th>2</th>\n",
              "      <td>00013b17ad220c46</td>\n",
              "      <td>\" \\n\\n == Sources == \\n\\n * Zawe Ashton on Lap...</td>\n",
              "    </tr>\n",
              "    <tr>\n",
              "      <th>3</th>\n",
              "      <td>00017563c3f7919a</td>\n",
              "      <td>:If you have a look back at the source, the in...</td>\n",
              "    </tr>\n",
              "    <tr>\n",
              "      <th>4</th>\n",
              "      <td>00017695ad8997eb</td>\n",
              "      <td>I don't anonymously edit articles at all.</td>\n",
              "    </tr>\n",
              "  </tbody>\n",
              "</table>\n",
              "</div>\n",
              "      <button class=\"colab-df-convert\" onclick=\"convertToInteractive('df-54f6f541-c022-4f98-9aae-71b1472474bb')\"\n",
              "              title=\"Convert this dataframe to an interactive table.\"\n",
              "              style=\"display:none;\">\n",
              "        \n",
              "  <svg xmlns=\"http://www.w3.org/2000/svg\" height=\"24px\"viewBox=\"0 0 24 24\"\n",
              "       width=\"24px\">\n",
              "    <path d=\"M0 0h24v24H0V0z\" fill=\"none\"/>\n",
              "    <path d=\"M18.56 5.44l.94 2.06.94-2.06 2.06-.94-2.06-.94-.94-2.06-.94 2.06-2.06.94zm-11 1L8.5 8.5l.94-2.06 2.06-.94-2.06-.94L8.5 2.5l-.94 2.06-2.06.94zm10 10l.94 2.06.94-2.06 2.06-.94-2.06-.94-.94-2.06-.94 2.06-2.06.94z\"/><path d=\"M17.41 7.96l-1.37-1.37c-.4-.4-.92-.59-1.43-.59-.52 0-1.04.2-1.43.59L10.3 9.45l-7.72 7.72c-.78.78-.78 2.05 0 2.83L4 21.41c.39.39.9.59 1.41.59.51 0 1.02-.2 1.41-.59l7.78-7.78 2.81-2.81c.8-.78.8-2.07 0-2.86zM5.41 20L4 18.59l7.72-7.72 1.47 1.35L5.41 20z\"/>\n",
              "  </svg>\n",
              "      </button>\n",
              "      \n",
              "  <style>\n",
              "    .colab-df-container {\n",
              "      display:flex;\n",
              "      flex-wrap:wrap;\n",
              "      gap: 12px;\n",
              "    }\n",
              "\n",
              "    .colab-df-convert {\n",
              "      background-color: #E8F0FE;\n",
              "      border: none;\n",
              "      border-radius: 50%;\n",
              "      cursor: pointer;\n",
              "      display: none;\n",
              "      fill: #1967D2;\n",
              "      height: 32px;\n",
              "      padding: 0 0 0 0;\n",
              "      width: 32px;\n",
              "    }\n",
              "\n",
              "    .colab-df-convert:hover {\n",
              "      background-color: #E2EBFA;\n",
              "      box-shadow: 0px 1px 2px rgba(60, 64, 67, 0.3), 0px 1px 3px 1px rgba(60, 64, 67, 0.15);\n",
              "      fill: #174EA6;\n",
              "    }\n",
              "\n",
              "    [theme=dark] .colab-df-convert {\n",
              "      background-color: #3B4455;\n",
              "      fill: #D2E3FC;\n",
              "    }\n",
              "\n",
              "    [theme=dark] .colab-df-convert:hover {\n",
              "      background-color: #434B5C;\n",
              "      box-shadow: 0px 1px 3px 1px rgba(0, 0, 0, 0.15);\n",
              "      filter: drop-shadow(0px 1px 2px rgba(0, 0, 0, 0.3));\n",
              "      fill: #FFFFFF;\n",
              "    }\n",
              "  </style>\n",
              "\n",
              "      <script>\n",
              "        const buttonEl =\n",
              "          document.querySelector('#df-54f6f541-c022-4f98-9aae-71b1472474bb button.colab-df-convert');\n",
              "        buttonEl.style.display =\n",
              "          google.colab.kernel.accessAllowed ? 'block' : 'none';\n",
              "\n",
              "        async function convertToInteractive(key) {\n",
              "          const element = document.querySelector('#df-54f6f541-c022-4f98-9aae-71b1472474bb');\n",
              "          const dataTable =\n",
              "            await google.colab.kernel.invokeFunction('convertToInteractive',\n",
              "                                                     [key], {});\n",
              "          if (!dataTable) return;\n",
              "\n",
              "          const docLinkHtml = 'Like what you see? Visit the ' +\n",
              "            '<a target=\"_blank\" href=https://colab.research.google.com/notebooks/data_table.ipynb>data table notebook</a>'\n",
              "            + ' to learn more about interactive tables.';\n",
              "          element.innerHTML = '';\n",
              "          dataTable['output_type'] = 'display_data';\n",
              "          await google.colab.output.renderOutput(dataTable, element);\n",
              "          const docLink = document.createElement('div');\n",
              "          docLink.innerHTML = docLinkHtml;\n",
              "          element.appendChild(docLink);\n",
              "        }\n",
              "      </script>\n",
              "    </div>\n",
              "  </div>\n",
              "  "
            ]
          },
          "metadata": {},
          "execution_count": 4
        }
      ]
    },
    {
      "cell_type": "code",
      "metadata": {
        "id": "COVpITCTKrYu",
        "outputId": "79958c89-ffbb-44a4-9684-6fa06b2b5be7",
        "colab": {
          "base_uri": "https://localhost:8080/",
          "height": 174
        }
      },
      "source": [
        "# Summary of test data.\n",
        "test.describe()"
      ],
      "execution_count": 5,
      "outputs": [
        {
          "output_type": "execute_result",
          "data": {
            "text/plain": [
              "                      id                                       comment_text\n",
              "count             153164                                             153164\n",
              "unique            153164                                             153164\n",
              "top     00001cee341fdb12  Yo bitch Ja Rule is more succesful then you'll...\n",
              "freq                   1                                                  1"
            ],
            "text/html": [
              "\n",
              "  <div id=\"df-3e007bf0-ad37-4e88-8043-e50a899c7702\">\n",
              "    <div class=\"colab-df-container\">\n",
              "      <div>\n",
              "<style scoped>\n",
              "    .dataframe tbody tr th:only-of-type {\n",
              "        vertical-align: middle;\n",
              "    }\n",
              "\n",
              "    .dataframe tbody tr th {\n",
              "        vertical-align: top;\n",
              "    }\n",
              "\n",
              "    .dataframe thead th {\n",
              "        text-align: right;\n",
              "    }\n",
              "</style>\n",
              "<table border=\"1\" class=\"dataframe\">\n",
              "  <thead>\n",
              "    <tr style=\"text-align: right;\">\n",
              "      <th></th>\n",
              "      <th>id</th>\n",
              "      <th>comment_text</th>\n",
              "    </tr>\n",
              "  </thead>\n",
              "  <tbody>\n",
              "    <tr>\n",
              "      <th>count</th>\n",
              "      <td>153164</td>\n",
              "      <td>153164</td>\n",
              "    </tr>\n",
              "    <tr>\n",
              "      <th>unique</th>\n",
              "      <td>153164</td>\n",
              "      <td>153164</td>\n",
              "    </tr>\n",
              "    <tr>\n",
              "      <th>top</th>\n",
              "      <td>00001cee341fdb12</td>\n",
              "      <td>Yo bitch Ja Rule is more succesful then you'll...</td>\n",
              "    </tr>\n",
              "    <tr>\n",
              "      <th>freq</th>\n",
              "      <td>1</td>\n",
              "      <td>1</td>\n",
              "    </tr>\n",
              "  </tbody>\n",
              "</table>\n",
              "</div>\n",
              "      <button class=\"colab-df-convert\" onclick=\"convertToInteractive('df-3e007bf0-ad37-4e88-8043-e50a899c7702')\"\n",
              "              title=\"Convert this dataframe to an interactive table.\"\n",
              "              style=\"display:none;\">\n",
              "        \n",
              "  <svg xmlns=\"http://www.w3.org/2000/svg\" height=\"24px\"viewBox=\"0 0 24 24\"\n",
              "       width=\"24px\">\n",
              "    <path d=\"M0 0h24v24H0V0z\" fill=\"none\"/>\n",
              "    <path d=\"M18.56 5.44l.94 2.06.94-2.06 2.06-.94-2.06-.94-.94-2.06-.94 2.06-2.06.94zm-11 1L8.5 8.5l.94-2.06 2.06-.94-2.06-.94L8.5 2.5l-.94 2.06-2.06.94zm10 10l.94 2.06.94-2.06 2.06-.94-2.06-.94-.94-2.06-.94 2.06-2.06.94z\"/><path d=\"M17.41 7.96l-1.37-1.37c-.4-.4-.92-.59-1.43-.59-.52 0-1.04.2-1.43.59L10.3 9.45l-7.72 7.72c-.78.78-.78 2.05 0 2.83L4 21.41c.39.39.9.59 1.41.59.51 0 1.02-.2 1.41-.59l7.78-7.78 2.81-2.81c.8-.78.8-2.07 0-2.86zM5.41 20L4 18.59l7.72-7.72 1.47 1.35L5.41 20z\"/>\n",
              "  </svg>\n",
              "      </button>\n",
              "      \n",
              "  <style>\n",
              "    .colab-df-container {\n",
              "      display:flex;\n",
              "      flex-wrap:wrap;\n",
              "      gap: 12px;\n",
              "    }\n",
              "\n",
              "    .colab-df-convert {\n",
              "      background-color: #E8F0FE;\n",
              "      border: none;\n",
              "      border-radius: 50%;\n",
              "      cursor: pointer;\n",
              "      display: none;\n",
              "      fill: #1967D2;\n",
              "      height: 32px;\n",
              "      padding: 0 0 0 0;\n",
              "      width: 32px;\n",
              "    }\n",
              "\n",
              "    .colab-df-convert:hover {\n",
              "      background-color: #E2EBFA;\n",
              "      box-shadow: 0px 1px 2px rgba(60, 64, 67, 0.3), 0px 1px 3px 1px rgba(60, 64, 67, 0.15);\n",
              "      fill: #174EA6;\n",
              "    }\n",
              "\n",
              "    [theme=dark] .colab-df-convert {\n",
              "      background-color: #3B4455;\n",
              "      fill: #D2E3FC;\n",
              "    }\n",
              "\n",
              "    [theme=dark] .colab-df-convert:hover {\n",
              "      background-color: #434B5C;\n",
              "      box-shadow: 0px 1px 3px 1px rgba(0, 0, 0, 0.15);\n",
              "      filter: drop-shadow(0px 1px 2px rgba(0, 0, 0, 0.3));\n",
              "      fill: #FFFFFF;\n",
              "    }\n",
              "  </style>\n",
              "\n",
              "      <script>\n",
              "        const buttonEl =\n",
              "          document.querySelector('#df-3e007bf0-ad37-4e88-8043-e50a899c7702 button.colab-df-convert');\n",
              "        buttonEl.style.display =\n",
              "          google.colab.kernel.accessAllowed ? 'block' : 'none';\n",
              "\n",
              "        async function convertToInteractive(key) {\n",
              "          const element = document.querySelector('#df-3e007bf0-ad37-4e88-8043-e50a899c7702');\n",
              "          const dataTable =\n",
              "            await google.colab.kernel.invokeFunction('convertToInteractive',\n",
              "                                                     [key], {});\n",
              "          if (!dataTable) return;\n",
              "\n",
              "          const docLinkHtml = 'Like what you see? Visit the ' +\n",
              "            '<a target=\"_blank\" href=https://colab.research.google.com/notebooks/data_table.ipynb>data table notebook</a>'\n",
              "            + ' to learn more about interactive tables.';\n",
              "          element.innerHTML = '';\n",
              "          dataTable['output_type'] = 'display_data';\n",
              "          await google.colab.output.renderOutput(dataTable, element);\n",
              "          const docLink = document.createElement('div');\n",
              "          docLink.innerHTML = docLinkHtml;\n",
              "          element.appendChild(docLink);\n",
              "        }\n",
              "      </script>\n",
              "    </div>\n",
              "  </div>\n",
              "  "
            ]
          },
          "metadata": {},
          "execution_count": 5
        }
      ]
    },
    {
      "cell_type": "code",
      "source": [
        "test.shape"
      ],
      "metadata": {
        "colab": {
          "base_uri": "https://localhost:8080/"
        },
        "id": "lzkzWTTrBhWh",
        "outputId": "43b22b9b-76b2-4691-994f-a815bdcdb928"
      },
      "execution_count": 6,
      "outputs": [
        {
          "output_type": "execute_result",
          "data": {
            "text/plain": [
              "(153164, 2)"
            ]
          },
          "metadata": {},
          "execution_count": 6
        }
      ]
    },
    {
      "cell_type": "code",
      "metadata": {
        "id": "EGbmVQJurkTw",
        "outputId": "f979ab05-4dd4-4de9-895a-82968be73aa9",
        "colab": {
          "base_uri": "https://localhost:8080/",
          "height": 206
        }
      },
      "source": [
        "# Load data, , testing labels\n",
        "test_labels = pd.read_csv(\"test_labels.csv\")\n",
        "test_labels.head(5)"
      ],
      "execution_count": 7,
      "outputs": [
        {
          "output_type": "execute_result",
          "data": {
            "text/plain": [
              "                 id  toxic  severe_toxic  obscene  threat  insult  \\\n",
              "0  00001cee341fdb12     -1            -1       -1      -1      -1   \n",
              "1  0000247867823ef7     -1            -1       -1      -1      -1   \n",
              "2  00013b17ad220c46     -1            -1       -1      -1      -1   \n",
              "3  00017563c3f7919a     -1            -1       -1      -1      -1   \n",
              "4  00017695ad8997eb     -1            -1       -1      -1      -1   \n",
              "\n",
              "   identity_hate  \n",
              "0             -1  \n",
              "1             -1  \n",
              "2             -1  \n",
              "3             -1  \n",
              "4             -1  "
            ],
            "text/html": [
              "\n",
              "  <div id=\"df-b993f4af-9699-45df-8dce-d92ff069b596\">\n",
              "    <div class=\"colab-df-container\">\n",
              "      <div>\n",
              "<style scoped>\n",
              "    .dataframe tbody tr th:only-of-type {\n",
              "        vertical-align: middle;\n",
              "    }\n",
              "\n",
              "    .dataframe tbody tr th {\n",
              "        vertical-align: top;\n",
              "    }\n",
              "\n",
              "    .dataframe thead th {\n",
              "        text-align: right;\n",
              "    }\n",
              "</style>\n",
              "<table border=\"1\" class=\"dataframe\">\n",
              "  <thead>\n",
              "    <tr style=\"text-align: right;\">\n",
              "      <th></th>\n",
              "      <th>id</th>\n",
              "      <th>toxic</th>\n",
              "      <th>severe_toxic</th>\n",
              "      <th>obscene</th>\n",
              "      <th>threat</th>\n",
              "      <th>insult</th>\n",
              "      <th>identity_hate</th>\n",
              "    </tr>\n",
              "  </thead>\n",
              "  <tbody>\n",
              "    <tr>\n",
              "      <th>0</th>\n",
              "      <td>00001cee341fdb12</td>\n",
              "      <td>-1</td>\n",
              "      <td>-1</td>\n",
              "      <td>-1</td>\n",
              "      <td>-1</td>\n",
              "      <td>-1</td>\n",
              "      <td>-1</td>\n",
              "    </tr>\n",
              "    <tr>\n",
              "      <th>1</th>\n",
              "      <td>0000247867823ef7</td>\n",
              "      <td>-1</td>\n",
              "      <td>-1</td>\n",
              "      <td>-1</td>\n",
              "      <td>-1</td>\n",
              "      <td>-1</td>\n",
              "      <td>-1</td>\n",
              "    </tr>\n",
              "    <tr>\n",
              "      <th>2</th>\n",
              "      <td>00013b17ad220c46</td>\n",
              "      <td>-1</td>\n",
              "      <td>-1</td>\n",
              "      <td>-1</td>\n",
              "      <td>-1</td>\n",
              "      <td>-1</td>\n",
              "      <td>-1</td>\n",
              "    </tr>\n",
              "    <tr>\n",
              "      <th>3</th>\n",
              "      <td>00017563c3f7919a</td>\n",
              "      <td>-1</td>\n",
              "      <td>-1</td>\n",
              "      <td>-1</td>\n",
              "      <td>-1</td>\n",
              "      <td>-1</td>\n",
              "      <td>-1</td>\n",
              "    </tr>\n",
              "    <tr>\n",
              "      <th>4</th>\n",
              "      <td>00017695ad8997eb</td>\n",
              "      <td>-1</td>\n",
              "      <td>-1</td>\n",
              "      <td>-1</td>\n",
              "      <td>-1</td>\n",
              "      <td>-1</td>\n",
              "      <td>-1</td>\n",
              "    </tr>\n",
              "  </tbody>\n",
              "</table>\n",
              "</div>\n",
              "      <button class=\"colab-df-convert\" onclick=\"convertToInteractive('df-b993f4af-9699-45df-8dce-d92ff069b596')\"\n",
              "              title=\"Convert this dataframe to an interactive table.\"\n",
              "              style=\"display:none;\">\n",
              "        \n",
              "  <svg xmlns=\"http://www.w3.org/2000/svg\" height=\"24px\"viewBox=\"0 0 24 24\"\n",
              "       width=\"24px\">\n",
              "    <path d=\"M0 0h24v24H0V0z\" fill=\"none\"/>\n",
              "    <path d=\"M18.56 5.44l.94 2.06.94-2.06 2.06-.94-2.06-.94-.94-2.06-.94 2.06-2.06.94zm-11 1L8.5 8.5l.94-2.06 2.06-.94-2.06-.94L8.5 2.5l-.94 2.06-2.06.94zm10 10l.94 2.06.94-2.06 2.06-.94-2.06-.94-.94-2.06-.94 2.06-2.06.94z\"/><path d=\"M17.41 7.96l-1.37-1.37c-.4-.4-.92-.59-1.43-.59-.52 0-1.04.2-1.43.59L10.3 9.45l-7.72 7.72c-.78.78-.78 2.05 0 2.83L4 21.41c.39.39.9.59 1.41.59.51 0 1.02-.2 1.41-.59l7.78-7.78 2.81-2.81c.8-.78.8-2.07 0-2.86zM5.41 20L4 18.59l7.72-7.72 1.47 1.35L5.41 20z\"/>\n",
              "  </svg>\n",
              "      </button>\n",
              "      \n",
              "  <style>\n",
              "    .colab-df-container {\n",
              "      display:flex;\n",
              "      flex-wrap:wrap;\n",
              "      gap: 12px;\n",
              "    }\n",
              "\n",
              "    .colab-df-convert {\n",
              "      background-color: #E8F0FE;\n",
              "      border: none;\n",
              "      border-radius: 50%;\n",
              "      cursor: pointer;\n",
              "      display: none;\n",
              "      fill: #1967D2;\n",
              "      height: 32px;\n",
              "      padding: 0 0 0 0;\n",
              "      width: 32px;\n",
              "    }\n",
              "\n",
              "    .colab-df-convert:hover {\n",
              "      background-color: #E2EBFA;\n",
              "      box-shadow: 0px 1px 2px rgba(60, 64, 67, 0.3), 0px 1px 3px 1px rgba(60, 64, 67, 0.15);\n",
              "      fill: #174EA6;\n",
              "    }\n",
              "\n",
              "    [theme=dark] .colab-df-convert {\n",
              "      background-color: #3B4455;\n",
              "      fill: #D2E3FC;\n",
              "    }\n",
              "\n",
              "    [theme=dark] .colab-df-convert:hover {\n",
              "      background-color: #434B5C;\n",
              "      box-shadow: 0px 1px 3px 1px rgba(0, 0, 0, 0.15);\n",
              "      filter: drop-shadow(0px 1px 2px rgba(0, 0, 0, 0.3));\n",
              "      fill: #FFFFFF;\n",
              "    }\n",
              "  </style>\n",
              "\n",
              "      <script>\n",
              "        const buttonEl =\n",
              "          document.querySelector('#df-b993f4af-9699-45df-8dce-d92ff069b596 button.colab-df-convert');\n",
              "        buttonEl.style.display =\n",
              "          google.colab.kernel.accessAllowed ? 'block' : 'none';\n",
              "\n",
              "        async function convertToInteractive(key) {\n",
              "          const element = document.querySelector('#df-b993f4af-9699-45df-8dce-d92ff069b596');\n",
              "          const dataTable =\n",
              "            await google.colab.kernel.invokeFunction('convertToInteractive',\n",
              "                                                     [key], {});\n",
              "          if (!dataTable) return;\n",
              "\n",
              "          const docLinkHtml = 'Like what you see? Visit the ' +\n",
              "            '<a target=\"_blank\" href=https://colab.research.google.com/notebooks/data_table.ipynb>data table notebook</a>'\n",
              "            + ' to learn more about interactive tables.';\n",
              "          element.innerHTML = '';\n",
              "          dataTable['output_type'] = 'display_data';\n",
              "          await google.colab.output.renderOutput(dataTable, element);\n",
              "          const docLink = document.createElement('div');\n",
              "          docLink.innerHTML = docLinkHtml;\n",
              "          element.appendChild(docLink);\n",
              "        }\n",
              "      </script>\n",
              "    </div>\n",
              "  </div>\n",
              "  "
            ]
          },
          "metadata": {},
          "execution_count": 7
        }
      ]
    },
    {
      "cell_type": "code",
      "metadata": {
        "id": "i7WptrTRrkTz",
        "outputId": "2e64b363-8755-4945-b856-a557b873cb07",
        "colab": {
          "base_uri": "https://localhost:8080/",
          "height": 300
        }
      },
      "source": [
        "test_labels.describe()"
      ],
      "execution_count": 8,
      "outputs": [
        {
          "output_type": "execute_result",
          "data": {
            "text/plain": [
              "               toxic   severe_toxic        obscene         threat  \\\n",
              "count  153164.000000  153164.000000  153164.000000  153164.000000   \n",
              "mean       -0.542530      -0.579895      -0.558193      -0.580913   \n",
              "std         0.572465       0.498408       0.542966       0.496195   \n",
              "min        -1.000000      -1.000000      -1.000000      -1.000000   \n",
              "25%        -1.000000      -1.000000      -1.000000      -1.000000   \n",
              "50%        -1.000000      -1.000000      -1.000000      -1.000000   \n",
              "75%         0.000000       0.000000       0.000000       0.000000   \n",
              "max         1.000000       1.000000       1.000000       1.000000   \n",
              "\n",
              "              insult  identity_hate  \n",
              "count  153164.000000  153164.000000  \n",
              "mean       -0.559916      -0.577642  \n",
              "std         0.539594       0.503260  \n",
              "min        -1.000000      -1.000000  \n",
              "25%        -1.000000      -1.000000  \n",
              "50%        -1.000000      -1.000000  \n",
              "75%         0.000000       0.000000  \n",
              "max         1.000000       1.000000  "
            ],
            "text/html": [
              "\n",
              "  <div id=\"df-e753172c-f140-420c-b94c-735327a7d1df\">\n",
              "    <div class=\"colab-df-container\">\n",
              "      <div>\n",
              "<style scoped>\n",
              "    .dataframe tbody tr th:only-of-type {\n",
              "        vertical-align: middle;\n",
              "    }\n",
              "\n",
              "    .dataframe tbody tr th {\n",
              "        vertical-align: top;\n",
              "    }\n",
              "\n",
              "    .dataframe thead th {\n",
              "        text-align: right;\n",
              "    }\n",
              "</style>\n",
              "<table border=\"1\" class=\"dataframe\">\n",
              "  <thead>\n",
              "    <tr style=\"text-align: right;\">\n",
              "      <th></th>\n",
              "      <th>toxic</th>\n",
              "      <th>severe_toxic</th>\n",
              "      <th>obscene</th>\n",
              "      <th>threat</th>\n",
              "      <th>insult</th>\n",
              "      <th>identity_hate</th>\n",
              "    </tr>\n",
              "  </thead>\n",
              "  <tbody>\n",
              "    <tr>\n",
              "      <th>count</th>\n",
              "      <td>153164.000000</td>\n",
              "      <td>153164.000000</td>\n",
              "      <td>153164.000000</td>\n",
              "      <td>153164.000000</td>\n",
              "      <td>153164.000000</td>\n",
              "      <td>153164.000000</td>\n",
              "    </tr>\n",
              "    <tr>\n",
              "      <th>mean</th>\n",
              "      <td>-0.542530</td>\n",
              "      <td>-0.579895</td>\n",
              "      <td>-0.558193</td>\n",
              "      <td>-0.580913</td>\n",
              "      <td>-0.559916</td>\n",
              "      <td>-0.577642</td>\n",
              "    </tr>\n",
              "    <tr>\n",
              "      <th>std</th>\n",
              "      <td>0.572465</td>\n",
              "      <td>0.498408</td>\n",
              "      <td>0.542966</td>\n",
              "      <td>0.496195</td>\n",
              "      <td>0.539594</td>\n",
              "      <td>0.503260</td>\n",
              "    </tr>\n",
              "    <tr>\n",
              "      <th>min</th>\n",
              "      <td>-1.000000</td>\n",
              "      <td>-1.000000</td>\n",
              "      <td>-1.000000</td>\n",
              "      <td>-1.000000</td>\n",
              "      <td>-1.000000</td>\n",
              "      <td>-1.000000</td>\n",
              "    </tr>\n",
              "    <tr>\n",
              "      <th>25%</th>\n",
              "      <td>-1.000000</td>\n",
              "      <td>-1.000000</td>\n",
              "      <td>-1.000000</td>\n",
              "      <td>-1.000000</td>\n",
              "      <td>-1.000000</td>\n",
              "      <td>-1.000000</td>\n",
              "    </tr>\n",
              "    <tr>\n",
              "      <th>50%</th>\n",
              "      <td>-1.000000</td>\n",
              "      <td>-1.000000</td>\n",
              "      <td>-1.000000</td>\n",
              "      <td>-1.000000</td>\n",
              "      <td>-1.000000</td>\n",
              "      <td>-1.000000</td>\n",
              "    </tr>\n",
              "    <tr>\n",
              "      <th>75%</th>\n",
              "      <td>0.000000</td>\n",
              "      <td>0.000000</td>\n",
              "      <td>0.000000</td>\n",
              "      <td>0.000000</td>\n",
              "      <td>0.000000</td>\n",
              "      <td>0.000000</td>\n",
              "    </tr>\n",
              "    <tr>\n",
              "      <th>max</th>\n",
              "      <td>1.000000</td>\n",
              "      <td>1.000000</td>\n",
              "      <td>1.000000</td>\n",
              "      <td>1.000000</td>\n",
              "      <td>1.000000</td>\n",
              "      <td>1.000000</td>\n",
              "    </tr>\n",
              "  </tbody>\n",
              "</table>\n",
              "</div>\n",
              "      <button class=\"colab-df-convert\" onclick=\"convertToInteractive('df-e753172c-f140-420c-b94c-735327a7d1df')\"\n",
              "              title=\"Convert this dataframe to an interactive table.\"\n",
              "              style=\"display:none;\">\n",
              "        \n",
              "  <svg xmlns=\"http://www.w3.org/2000/svg\" height=\"24px\"viewBox=\"0 0 24 24\"\n",
              "       width=\"24px\">\n",
              "    <path d=\"M0 0h24v24H0V0z\" fill=\"none\"/>\n",
              "    <path d=\"M18.56 5.44l.94 2.06.94-2.06 2.06-.94-2.06-.94-.94-2.06-.94 2.06-2.06.94zm-11 1L8.5 8.5l.94-2.06 2.06-.94-2.06-.94L8.5 2.5l-.94 2.06-2.06.94zm10 10l.94 2.06.94-2.06 2.06-.94-2.06-.94-.94-2.06-.94 2.06-2.06.94z\"/><path d=\"M17.41 7.96l-1.37-1.37c-.4-.4-.92-.59-1.43-.59-.52 0-1.04.2-1.43.59L10.3 9.45l-7.72 7.72c-.78.78-.78 2.05 0 2.83L4 21.41c.39.39.9.59 1.41.59.51 0 1.02-.2 1.41-.59l7.78-7.78 2.81-2.81c.8-.78.8-2.07 0-2.86zM5.41 20L4 18.59l7.72-7.72 1.47 1.35L5.41 20z\"/>\n",
              "  </svg>\n",
              "      </button>\n",
              "      \n",
              "  <style>\n",
              "    .colab-df-container {\n",
              "      display:flex;\n",
              "      flex-wrap:wrap;\n",
              "      gap: 12px;\n",
              "    }\n",
              "\n",
              "    .colab-df-convert {\n",
              "      background-color: #E8F0FE;\n",
              "      border: none;\n",
              "      border-radius: 50%;\n",
              "      cursor: pointer;\n",
              "      display: none;\n",
              "      fill: #1967D2;\n",
              "      height: 32px;\n",
              "      padding: 0 0 0 0;\n",
              "      width: 32px;\n",
              "    }\n",
              "\n",
              "    .colab-df-convert:hover {\n",
              "      background-color: #E2EBFA;\n",
              "      box-shadow: 0px 1px 2px rgba(60, 64, 67, 0.3), 0px 1px 3px 1px rgba(60, 64, 67, 0.15);\n",
              "      fill: #174EA6;\n",
              "    }\n",
              "\n",
              "    [theme=dark] .colab-df-convert {\n",
              "      background-color: #3B4455;\n",
              "      fill: #D2E3FC;\n",
              "    }\n",
              "\n",
              "    [theme=dark] .colab-df-convert:hover {\n",
              "      background-color: #434B5C;\n",
              "      box-shadow: 0px 1px 3px 1px rgba(0, 0, 0, 0.15);\n",
              "      filter: drop-shadow(0px 1px 2px rgba(0, 0, 0, 0.3));\n",
              "      fill: #FFFFFF;\n",
              "    }\n",
              "  </style>\n",
              "\n",
              "      <script>\n",
              "        const buttonEl =\n",
              "          document.querySelector('#df-e753172c-f140-420c-b94c-735327a7d1df button.colab-df-convert');\n",
              "        buttonEl.style.display =\n",
              "          google.colab.kernel.accessAllowed ? 'block' : 'none';\n",
              "\n",
              "        async function convertToInteractive(key) {\n",
              "          const element = document.querySelector('#df-e753172c-f140-420c-b94c-735327a7d1df');\n",
              "          const dataTable =\n",
              "            await google.colab.kernel.invokeFunction('convertToInteractive',\n",
              "                                                     [key], {});\n",
              "          if (!dataTable) return;\n",
              "\n",
              "          const docLinkHtml = 'Like what you see? Visit the ' +\n",
              "            '<a target=\"_blank\" href=https://colab.research.google.com/notebooks/data_table.ipynb>data table notebook</a>'\n",
              "            + ' to learn more about interactive tables.';\n",
              "          element.innerHTML = '';\n",
              "          dataTable['output_type'] = 'display_data';\n",
              "          await google.colab.output.renderOutput(dataTable, element);\n",
              "          const docLink = document.createElement('div');\n",
              "          docLink.innerHTML = docLinkHtml;\n",
              "          element.appendChild(docLink);\n",
              "        }\n",
              "      </script>\n",
              "    </div>\n",
              "  </div>\n",
              "  "
            ]
          },
          "metadata": {},
          "execution_count": 8
        }
      ]
    },
    {
      "cell_type": "code",
      "source": [
        "# Dropping samples with \"-1\" value of -1 indicates it was not used for scoring\n",
        "\n",
        "test_labels = test_labels[test_labels['toxic'] != -1]\n",
        "\n",
        "test_labels.head(2)"
      ],
      "metadata": {
        "colab": {
          "base_uri": "https://localhost:8080/",
          "height": 112
        },
        "id": "NMF30NrA_kkG",
        "outputId": "beb5c330-ed32-4f6c-cebf-23c7b50d98aa"
      },
      "execution_count": 9,
      "outputs": [
        {
          "output_type": "execute_result",
          "data": {
            "text/plain": [
              "                 id  toxic  severe_toxic  obscene  threat  insult  \\\n",
              "5  0001ea8717f6de06      0             0        0       0       0   \n",
              "7  000247e83dcc1211      0             0        0       0       0   \n",
              "\n",
              "   identity_hate  \n",
              "5              0  \n",
              "7              0  "
            ],
            "text/html": [
              "\n",
              "  <div id=\"df-b08ea1fd-6c80-4360-a857-48446815b903\">\n",
              "    <div class=\"colab-df-container\">\n",
              "      <div>\n",
              "<style scoped>\n",
              "    .dataframe tbody tr th:only-of-type {\n",
              "        vertical-align: middle;\n",
              "    }\n",
              "\n",
              "    .dataframe tbody tr th {\n",
              "        vertical-align: top;\n",
              "    }\n",
              "\n",
              "    .dataframe thead th {\n",
              "        text-align: right;\n",
              "    }\n",
              "</style>\n",
              "<table border=\"1\" class=\"dataframe\">\n",
              "  <thead>\n",
              "    <tr style=\"text-align: right;\">\n",
              "      <th></th>\n",
              "      <th>id</th>\n",
              "      <th>toxic</th>\n",
              "      <th>severe_toxic</th>\n",
              "      <th>obscene</th>\n",
              "      <th>threat</th>\n",
              "      <th>insult</th>\n",
              "      <th>identity_hate</th>\n",
              "    </tr>\n",
              "  </thead>\n",
              "  <tbody>\n",
              "    <tr>\n",
              "      <th>5</th>\n",
              "      <td>0001ea8717f6de06</td>\n",
              "      <td>0</td>\n",
              "      <td>0</td>\n",
              "      <td>0</td>\n",
              "      <td>0</td>\n",
              "      <td>0</td>\n",
              "      <td>0</td>\n",
              "    </tr>\n",
              "    <tr>\n",
              "      <th>7</th>\n",
              "      <td>000247e83dcc1211</td>\n",
              "      <td>0</td>\n",
              "      <td>0</td>\n",
              "      <td>0</td>\n",
              "      <td>0</td>\n",
              "      <td>0</td>\n",
              "      <td>0</td>\n",
              "    </tr>\n",
              "  </tbody>\n",
              "</table>\n",
              "</div>\n",
              "      <button class=\"colab-df-convert\" onclick=\"convertToInteractive('df-b08ea1fd-6c80-4360-a857-48446815b903')\"\n",
              "              title=\"Convert this dataframe to an interactive table.\"\n",
              "              style=\"display:none;\">\n",
              "        \n",
              "  <svg xmlns=\"http://www.w3.org/2000/svg\" height=\"24px\"viewBox=\"0 0 24 24\"\n",
              "       width=\"24px\">\n",
              "    <path d=\"M0 0h24v24H0V0z\" fill=\"none\"/>\n",
              "    <path d=\"M18.56 5.44l.94 2.06.94-2.06 2.06-.94-2.06-.94-.94-2.06-.94 2.06-2.06.94zm-11 1L8.5 8.5l.94-2.06 2.06-.94-2.06-.94L8.5 2.5l-.94 2.06-2.06.94zm10 10l.94 2.06.94-2.06 2.06-.94-2.06-.94-.94-2.06-.94 2.06-2.06.94z\"/><path d=\"M17.41 7.96l-1.37-1.37c-.4-.4-.92-.59-1.43-.59-.52 0-1.04.2-1.43.59L10.3 9.45l-7.72 7.72c-.78.78-.78 2.05 0 2.83L4 21.41c.39.39.9.59 1.41.59.51 0 1.02-.2 1.41-.59l7.78-7.78 2.81-2.81c.8-.78.8-2.07 0-2.86zM5.41 20L4 18.59l7.72-7.72 1.47 1.35L5.41 20z\"/>\n",
              "  </svg>\n",
              "      </button>\n",
              "      \n",
              "  <style>\n",
              "    .colab-df-container {\n",
              "      display:flex;\n",
              "      flex-wrap:wrap;\n",
              "      gap: 12px;\n",
              "    }\n",
              "\n",
              "    .colab-df-convert {\n",
              "      background-color: #E8F0FE;\n",
              "      border: none;\n",
              "      border-radius: 50%;\n",
              "      cursor: pointer;\n",
              "      display: none;\n",
              "      fill: #1967D2;\n",
              "      height: 32px;\n",
              "      padding: 0 0 0 0;\n",
              "      width: 32px;\n",
              "    }\n",
              "\n",
              "    .colab-df-convert:hover {\n",
              "      background-color: #E2EBFA;\n",
              "      box-shadow: 0px 1px 2px rgba(60, 64, 67, 0.3), 0px 1px 3px 1px rgba(60, 64, 67, 0.15);\n",
              "      fill: #174EA6;\n",
              "    }\n",
              "\n",
              "    [theme=dark] .colab-df-convert {\n",
              "      background-color: #3B4455;\n",
              "      fill: #D2E3FC;\n",
              "    }\n",
              "\n",
              "    [theme=dark] .colab-df-convert:hover {\n",
              "      background-color: #434B5C;\n",
              "      box-shadow: 0px 1px 3px 1px rgba(0, 0, 0, 0.15);\n",
              "      filter: drop-shadow(0px 1px 2px rgba(0, 0, 0, 0.3));\n",
              "      fill: #FFFFFF;\n",
              "    }\n",
              "  </style>\n",
              "\n",
              "      <script>\n",
              "        const buttonEl =\n",
              "          document.querySelector('#df-b08ea1fd-6c80-4360-a857-48446815b903 button.colab-df-convert');\n",
              "        buttonEl.style.display =\n",
              "          google.colab.kernel.accessAllowed ? 'block' : 'none';\n",
              "\n",
              "        async function convertToInteractive(key) {\n",
              "          const element = document.querySelector('#df-b08ea1fd-6c80-4360-a857-48446815b903');\n",
              "          const dataTable =\n",
              "            await google.colab.kernel.invokeFunction('convertToInteractive',\n",
              "                                                     [key], {});\n",
              "          if (!dataTable) return;\n",
              "\n",
              "          const docLinkHtml = 'Like what you see? Visit the ' +\n",
              "            '<a target=\"_blank\" href=https://colab.research.google.com/notebooks/data_table.ipynb>data table notebook</a>'\n",
              "            + ' to learn more about interactive tables.';\n",
              "          element.innerHTML = '';\n",
              "          dataTable['output_type'] = 'display_data';\n",
              "          await google.colab.output.renderOutput(dataTable, element);\n",
              "          const docLink = document.createElement('div');\n",
              "          docLink.innerHTML = docLinkHtml;\n",
              "          element.appendChild(docLink);\n",
              "        }\n",
              "      </script>\n",
              "    </div>\n",
              "  </div>\n",
              "  "
            ]
          },
          "metadata": {},
          "execution_count": 9
        }
      ]
    },
    {
      "cell_type": "code",
      "source": [
        "# Dropping the same samples from test data.\n",
        "\n",
        "test = test[test['id'].isin(test_labels['id'])]\n",
        "\n",
        "test.head(2)"
      ],
      "metadata": {
        "colab": {
          "base_uri": "https://localhost:8080/",
          "height": 112
        },
        "id": "FHdFnP_VAE0t",
        "outputId": "6efd917d-f1b8-4aa7-9747-7c9f3c36a8a0"
      },
      "execution_count": 10,
      "outputs": [
        {
          "output_type": "execute_result",
          "data": {
            "text/plain": [
              "                 id                                       comment_text\n",
              "5  0001ea8717f6de06  Thank you for understanding. I think very high...\n",
              "7  000247e83dcc1211                   :Dear god this site is horrible."
            ],
            "text/html": [
              "\n",
              "  <div id=\"df-93c61033-3e22-4f2c-a5e3-3ba0e8ea82ad\">\n",
              "    <div class=\"colab-df-container\">\n",
              "      <div>\n",
              "<style scoped>\n",
              "    .dataframe tbody tr th:only-of-type {\n",
              "        vertical-align: middle;\n",
              "    }\n",
              "\n",
              "    .dataframe tbody tr th {\n",
              "        vertical-align: top;\n",
              "    }\n",
              "\n",
              "    .dataframe thead th {\n",
              "        text-align: right;\n",
              "    }\n",
              "</style>\n",
              "<table border=\"1\" class=\"dataframe\">\n",
              "  <thead>\n",
              "    <tr style=\"text-align: right;\">\n",
              "      <th></th>\n",
              "      <th>id</th>\n",
              "      <th>comment_text</th>\n",
              "    </tr>\n",
              "  </thead>\n",
              "  <tbody>\n",
              "    <tr>\n",
              "      <th>5</th>\n",
              "      <td>0001ea8717f6de06</td>\n",
              "      <td>Thank you for understanding. I think very high...</td>\n",
              "    </tr>\n",
              "    <tr>\n",
              "      <th>7</th>\n",
              "      <td>000247e83dcc1211</td>\n",
              "      <td>:Dear god this site is horrible.</td>\n",
              "    </tr>\n",
              "  </tbody>\n",
              "</table>\n",
              "</div>\n",
              "      <button class=\"colab-df-convert\" onclick=\"convertToInteractive('df-93c61033-3e22-4f2c-a5e3-3ba0e8ea82ad')\"\n",
              "              title=\"Convert this dataframe to an interactive table.\"\n",
              "              style=\"display:none;\">\n",
              "        \n",
              "  <svg xmlns=\"http://www.w3.org/2000/svg\" height=\"24px\"viewBox=\"0 0 24 24\"\n",
              "       width=\"24px\">\n",
              "    <path d=\"M0 0h24v24H0V0z\" fill=\"none\"/>\n",
              "    <path d=\"M18.56 5.44l.94 2.06.94-2.06 2.06-.94-2.06-.94-.94-2.06-.94 2.06-2.06.94zm-11 1L8.5 8.5l.94-2.06 2.06-.94-2.06-.94L8.5 2.5l-.94 2.06-2.06.94zm10 10l.94 2.06.94-2.06 2.06-.94-2.06-.94-.94-2.06-.94 2.06-2.06.94z\"/><path d=\"M17.41 7.96l-1.37-1.37c-.4-.4-.92-.59-1.43-.59-.52 0-1.04.2-1.43.59L10.3 9.45l-7.72 7.72c-.78.78-.78 2.05 0 2.83L4 21.41c.39.39.9.59 1.41.59.51 0 1.02-.2 1.41-.59l7.78-7.78 2.81-2.81c.8-.78.8-2.07 0-2.86zM5.41 20L4 18.59l7.72-7.72 1.47 1.35L5.41 20z\"/>\n",
              "  </svg>\n",
              "      </button>\n",
              "      \n",
              "  <style>\n",
              "    .colab-df-container {\n",
              "      display:flex;\n",
              "      flex-wrap:wrap;\n",
              "      gap: 12px;\n",
              "    }\n",
              "\n",
              "    .colab-df-convert {\n",
              "      background-color: #E8F0FE;\n",
              "      border: none;\n",
              "      border-radius: 50%;\n",
              "      cursor: pointer;\n",
              "      display: none;\n",
              "      fill: #1967D2;\n",
              "      height: 32px;\n",
              "      padding: 0 0 0 0;\n",
              "      width: 32px;\n",
              "    }\n",
              "\n",
              "    .colab-df-convert:hover {\n",
              "      background-color: #E2EBFA;\n",
              "      box-shadow: 0px 1px 2px rgba(60, 64, 67, 0.3), 0px 1px 3px 1px rgba(60, 64, 67, 0.15);\n",
              "      fill: #174EA6;\n",
              "    }\n",
              "\n",
              "    [theme=dark] .colab-df-convert {\n",
              "      background-color: #3B4455;\n",
              "      fill: #D2E3FC;\n",
              "    }\n",
              "\n",
              "    [theme=dark] .colab-df-convert:hover {\n",
              "      background-color: #434B5C;\n",
              "      box-shadow: 0px 1px 3px 1px rgba(0, 0, 0, 0.15);\n",
              "      filter: drop-shadow(0px 1px 2px rgba(0, 0, 0, 0.3));\n",
              "      fill: #FFFFFF;\n",
              "    }\n",
              "  </style>\n",
              "\n",
              "      <script>\n",
              "        const buttonEl =\n",
              "          document.querySelector('#df-93c61033-3e22-4f2c-a5e3-3ba0e8ea82ad button.colab-df-convert');\n",
              "        buttonEl.style.display =\n",
              "          google.colab.kernel.accessAllowed ? 'block' : 'none';\n",
              "\n",
              "        async function convertToInteractive(key) {\n",
              "          const element = document.querySelector('#df-93c61033-3e22-4f2c-a5e3-3ba0e8ea82ad');\n",
              "          const dataTable =\n",
              "            await google.colab.kernel.invokeFunction('convertToInteractive',\n",
              "                                                     [key], {});\n",
              "          if (!dataTable) return;\n",
              "\n",
              "          const docLinkHtml = 'Like what you see? Visit the ' +\n",
              "            '<a target=\"_blank\" href=https://colab.research.google.com/notebooks/data_table.ipynb>data table notebook</a>'\n",
              "            + ' to learn more about interactive tables.';\n",
              "          element.innerHTML = '';\n",
              "          dataTable['output_type'] = 'display_data';\n",
              "          await google.colab.output.renderOutput(dataTable, element);\n",
              "          const docLink = document.createElement('div');\n",
              "          docLink.innerHTML = docLinkHtml;\n",
              "          element.appendChild(docLink);\n",
              "        }\n",
              "      </script>\n",
              "    </div>\n",
              "  </div>\n",
              "  "
            ]
          },
          "metadata": {},
          "execution_count": 10
        }
      ]
    },
    {
      "cell_type": "code",
      "source": [
        "print(\"Overall shape of test and labels set:\", test.shape, test_labels.shape)"
      ],
      "metadata": {
        "colab": {
          "base_uri": "https://localhost:8080/"
        },
        "id": "A85V4BOZBWYb",
        "outputId": "fdbf196b-34ce-4afc-cc80-075066543cda"
      },
      "execution_count": 11,
      "outputs": [
        {
          "output_type": "stream",
          "name": "stdout",
          "text": [
            "Overall shape of test and labels set: (63978, 2) (63978, 7)\n"
          ]
        }
      ]
    },
    {
      "cell_type": "code",
      "metadata": {
        "id": "2K5xPd3LrkT4"
      },
      "source": [
        "# Dropping id column, since we have our final dataset to work on:\n",
        "train  = train.drop(['id'],axis = 1) # axis = 1 for column\n",
        "test   = test.drop(['id'],axis = 1)\n",
        "test_labels = test_labels.drop(['id'],axis = 1)"
      ],
      "execution_count": 12,
      "outputs": []
    },
    {
      "cell_type": "code",
      "metadata": {
        "id": "8reT1vD3rkT7",
        "outputId": "e2f52e97-682f-4cbe-80db-00767239c2ee",
        "colab": {
          "base_uri": "https://localhost:8080/"
        }
      },
      "source": [
        "# Checking for missing data in the dataset:\n",
        "print(\"Training set:\\n\", train.isnull().sum(),\"\\n\")\n",
        "print(\"Testing set:\\n\", test.isna().sum(),\"\\n\")\n",
        "print(\"Test label set:\\n\", test_labels.isna().sum(),\"\\n\")"
      ],
      "execution_count": 13,
      "outputs": [
        {
          "output_type": "stream",
          "name": "stdout",
          "text": [
            "Training set:\n",
            " comment_text     0\n",
            "toxic            0\n",
            "severe_toxic     0\n",
            "obscene          0\n",
            "threat           0\n",
            "insult           0\n",
            "identity_hate    0\n",
            "dtype: int64 \n",
            "\n",
            "Testing set:\n",
            " comment_text    0\n",
            "dtype: int64 \n",
            "\n",
            "Test label set:\n",
            " toxic            0\n",
            "severe_toxic     0\n",
            "obscene          0\n",
            "threat           0\n",
            "insult           0\n",
            "identity_hate    0\n",
            "dtype: int64 \n",
            "\n"
          ]
        }
      ]
    },
    {
      "cell_type": "markdown",
      "metadata": {
        "id": "R63LO85xrkT9"
      },
      "source": [
        "- No null values found"
      ]
    },
    {
      "cell_type": "code",
      "metadata": {
        "id": "1E2p0UVq0aIh"
      },
      "source": [
        "# TASK CELL\n",
        "\n",
        "def clean_message(message):\n",
        "    '''\n",
        "    Input:\n",
        "        message: a string containing a message.\n",
        "    Output:\n",
        "        messages_cleaned: a list of words containing the processed message. \n",
        "    '''\n",
        "    \n",
        "    # Remove punctuations:\n",
        "    message = message.replace(\"-\", \" \")\n",
        "    message = message.replace(\"\\t\", \" \")\n",
        "    message = message.replace(\"\\n\", \" \")\n",
        "    message = re.sub(r'[^\\w\\s]', '', message)\n",
        "    \n",
        "    # Remove links:\n",
        "    message = re.sub(r\"http\\S+\", \"\", message)\n",
        "    \n",
        "    # Normalize the words w.r.t. character case:\n",
        "    \n",
        "    message = message.lower()\n",
        "       \n",
        "    # Delete extra spaces:\n",
        "    cleaned_message = re.sub(' +',' ',message) \n",
        "    \n",
        "    return cleaned_message"
      ],
      "execution_count": 14,
      "outputs": []
    },
    {
      "cell_type": "code",
      "source": [
        "# Stripping out leading and trailing white spaces:\n",
        "\n",
        "train['comment_text'] = train['comment_text'].map(lambda x : x.strip())\n",
        "test['comment_text'] = test['comment_text'].map(lambda x : x.strip())"
      ],
      "metadata": {
        "id": "PlLACt5TD0UN"
      },
      "execution_count": 15,
      "outputs": []
    },
    {
      "cell_type": "code",
      "source": [
        "# Cleaning entire comment column:\n",
        "train['comment_text'] = train['comment_text'].map(lambda x : clean_message(x))\n",
        "test['comment_text'] = test['comment_text'].map(lambda x : clean_message(x))"
      ],
      "metadata": {
        "id": "veU2c45LEDzg"
      },
      "execution_count": 16,
      "outputs": []
    },
    {
      "cell_type": "code",
      "metadata": {
        "id": "0Te2w6zqrkT-",
        "outputId": "2be9a1f3-534b-4c93-dc1d-9c697c350966",
        "colab": {
          "base_uri": "https://localhost:8080/"
        }
      },
      "source": [
        "# Check a few comments\n",
        "print(train[\"comment_text\"].values[5])"
      ],
      "execution_count": 17,
      "outputs": [
        {
          "output_type": "stream",
          "name": "stdout",
          "text": [
            " congratulations from me as well use the tools well   talk \n"
          ]
        }
      ]
    },
    {
      "cell_type": "code",
      "source": [
        "# Data for train:\n",
        "\n",
        "X_train = train[\"comment_text\"].values"
      ],
      "metadata": {
        "id": "g5a5pgRgJDoY"
      },
      "execution_count": 18,
      "outputs": []
    },
    {
      "cell_type": "code",
      "source": [
        "# Adding a column to the data comments are non-toxic:\n",
        "train['non_toxic'] = train['toxic'] + train['severe_toxic'] + train['obscene'] + train['threat'] + train['insult'] + train['identity_hate']    \n",
        "train.loc[train['non_toxic'] == 0, 'non_toxic'] = -1\n",
        "train.loc[train['non_toxic'] > 0, 'non_toxic'] = 0\n",
        "train.loc[train['non_toxic'] == -1, 'non_toxic'] = 1\n",
        "train.head(3)"
      ],
      "metadata": {
        "colab": {
          "base_uri": "https://localhost:8080/",
          "height": 143
        },
        "id": "56RVIiiPIYwi",
        "outputId": "322fb064-7b74-43d8-8a8f-7a1845364469"
      },
      "execution_count": 19,
      "outputs": [
        {
          "output_type": "execute_result",
          "data": {
            "text/plain": [
              "                                        comment_text  toxic  severe_toxic  \\\n",
              "0  explanation why the edits made under my userna...      0             0   \n",
              "1  daww he matches this background colour im seem...      0             0   \n",
              "2  hey man im really not trying to edit war its j...      0             0   \n",
              "\n",
              "   obscene  threat  insult  identity_hate  non_toxic  \n",
              "0        0       0       0              0          1  \n",
              "1        0       0       0              0          1  \n",
              "2        0       0       0              0          1  "
            ],
            "text/html": [
              "\n",
              "  <div id=\"df-31987992-208f-4516-9a87-ebb7b11bf150\">\n",
              "    <div class=\"colab-df-container\">\n",
              "      <div>\n",
              "<style scoped>\n",
              "    .dataframe tbody tr th:only-of-type {\n",
              "        vertical-align: middle;\n",
              "    }\n",
              "\n",
              "    .dataframe tbody tr th {\n",
              "        vertical-align: top;\n",
              "    }\n",
              "\n",
              "    .dataframe thead th {\n",
              "        text-align: right;\n",
              "    }\n",
              "</style>\n",
              "<table border=\"1\" class=\"dataframe\">\n",
              "  <thead>\n",
              "    <tr style=\"text-align: right;\">\n",
              "      <th></th>\n",
              "      <th>comment_text</th>\n",
              "      <th>toxic</th>\n",
              "      <th>severe_toxic</th>\n",
              "      <th>obscene</th>\n",
              "      <th>threat</th>\n",
              "      <th>insult</th>\n",
              "      <th>identity_hate</th>\n",
              "      <th>non_toxic</th>\n",
              "    </tr>\n",
              "  </thead>\n",
              "  <tbody>\n",
              "    <tr>\n",
              "      <th>0</th>\n",
              "      <td>explanation why the edits made under my userna...</td>\n",
              "      <td>0</td>\n",
              "      <td>0</td>\n",
              "      <td>0</td>\n",
              "      <td>0</td>\n",
              "      <td>0</td>\n",
              "      <td>0</td>\n",
              "      <td>1</td>\n",
              "    </tr>\n",
              "    <tr>\n",
              "      <th>1</th>\n",
              "      <td>daww he matches this background colour im seem...</td>\n",
              "      <td>0</td>\n",
              "      <td>0</td>\n",
              "      <td>0</td>\n",
              "      <td>0</td>\n",
              "      <td>0</td>\n",
              "      <td>0</td>\n",
              "      <td>1</td>\n",
              "    </tr>\n",
              "    <tr>\n",
              "      <th>2</th>\n",
              "      <td>hey man im really not trying to edit war its j...</td>\n",
              "      <td>0</td>\n",
              "      <td>0</td>\n",
              "      <td>0</td>\n",
              "      <td>0</td>\n",
              "      <td>0</td>\n",
              "      <td>0</td>\n",
              "      <td>1</td>\n",
              "    </tr>\n",
              "  </tbody>\n",
              "</table>\n",
              "</div>\n",
              "      <button class=\"colab-df-convert\" onclick=\"convertToInteractive('df-31987992-208f-4516-9a87-ebb7b11bf150')\"\n",
              "              title=\"Convert this dataframe to an interactive table.\"\n",
              "              style=\"display:none;\">\n",
              "        \n",
              "  <svg xmlns=\"http://www.w3.org/2000/svg\" height=\"24px\"viewBox=\"0 0 24 24\"\n",
              "       width=\"24px\">\n",
              "    <path d=\"M0 0h24v24H0V0z\" fill=\"none\"/>\n",
              "    <path d=\"M18.56 5.44l.94 2.06.94-2.06 2.06-.94-2.06-.94-.94-2.06-.94 2.06-2.06.94zm-11 1L8.5 8.5l.94-2.06 2.06-.94-2.06-.94L8.5 2.5l-.94 2.06-2.06.94zm10 10l.94 2.06.94-2.06 2.06-.94-2.06-.94-.94-2.06-.94 2.06-2.06.94z\"/><path d=\"M17.41 7.96l-1.37-1.37c-.4-.4-.92-.59-1.43-.59-.52 0-1.04.2-1.43.59L10.3 9.45l-7.72 7.72c-.78.78-.78 2.05 0 2.83L4 21.41c.39.39.9.59 1.41.59.51 0 1.02-.2 1.41-.59l7.78-7.78 2.81-2.81c.8-.78.8-2.07 0-2.86zM5.41 20L4 18.59l7.72-7.72 1.47 1.35L5.41 20z\"/>\n",
              "  </svg>\n",
              "      </button>\n",
              "      \n",
              "  <style>\n",
              "    .colab-df-container {\n",
              "      display:flex;\n",
              "      flex-wrap:wrap;\n",
              "      gap: 12px;\n",
              "    }\n",
              "\n",
              "    .colab-df-convert {\n",
              "      background-color: #E8F0FE;\n",
              "      border: none;\n",
              "      border-radius: 50%;\n",
              "      cursor: pointer;\n",
              "      display: none;\n",
              "      fill: #1967D2;\n",
              "      height: 32px;\n",
              "      padding: 0 0 0 0;\n",
              "      width: 32px;\n",
              "    }\n",
              "\n",
              "    .colab-df-convert:hover {\n",
              "      background-color: #E2EBFA;\n",
              "      box-shadow: 0px 1px 2px rgba(60, 64, 67, 0.3), 0px 1px 3px 1px rgba(60, 64, 67, 0.15);\n",
              "      fill: #174EA6;\n",
              "    }\n",
              "\n",
              "    [theme=dark] .colab-df-convert {\n",
              "      background-color: #3B4455;\n",
              "      fill: #D2E3FC;\n",
              "    }\n",
              "\n",
              "    [theme=dark] .colab-df-convert:hover {\n",
              "      background-color: #434B5C;\n",
              "      box-shadow: 0px 1px 3px 1px rgba(0, 0, 0, 0.15);\n",
              "      filter: drop-shadow(0px 1px 2px rgba(0, 0, 0, 0.3));\n",
              "      fill: #FFFFFF;\n",
              "    }\n",
              "  </style>\n",
              "\n",
              "      <script>\n",
              "        const buttonEl =\n",
              "          document.querySelector('#df-31987992-208f-4516-9a87-ebb7b11bf150 button.colab-df-convert');\n",
              "        buttonEl.style.display =\n",
              "          google.colab.kernel.accessAllowed ? 'block' : 'none';\n",
              "\n",
              "        async function convertToInteractive(key) {\n",
              "          const element = document.querySelector('#df-31987992-208f-4516-9a87-ebb7b11bf150');\n",
              "          const dataTable =\n",
              "            await google.colab.kernel.invokeFunction('convertToInteractive',\n",
              "                                                     [key], {});\n",
              "          if (!dataTable) return;\n",
              "\n",
              "          const docLinkHtml = 'Like what you see? Visit the ' +\n",
              "            '<a target=\"_blank\" href=https://colab.research.google.com/notebooks/data_table.ipynb>data table notebook</a>'\n",
              "            + ' to learn more about interactive tables.';\n",
              "          element.innerHTML = '';\n",
              "          dataTable['output_type'] = 'display_data';\n",
              "          await google.colab.output.renderOutput(dataTable, element);\n",
              "          const docLink = document.createElement('div');\n",
              "          docLink.innerHTML = docLinkHtml;\n",
              "          element.appendChild(docLink);\n",
              "        }\n",
              "      </script>\n",
              "    </div>\n",
              "  </div>\n",
              "  "
            ]
          },
          "metadata": {},
          "execution_count": 19
        }
      ]
    },
    {
      "cell_type": "code",
      "source": [
        "# Adding a column to the data comments are non-toxic:\n",
        "test_labels['non_toxic'] = test_labels['toxic'] + test_labels['severe_toxic'] + test_labels['obscene'] + test_labels['threat'] + test_labels['insult'] + test_labels['identity_hate']    \n",
        "test_labels.loc[test_labels['non_toxic'] == 0, 'non_toxic'] = -1\n",
        "test_labels.loc[test_labels['non_toxic'] > 0, 'non_toxic'] = 0\n",
        "test_labels.loc[test_labels['non_toxic'] == -1, 'non_toxic'] = 1\n",
        "test_labels.head(3)"
      ],
      "metadata": {
        "colab": {
          "base_uri": "https://localhost:8080/",
          "height": 143
        },
        "id": "nsYi3VexIfUr",
        "outputId": "d979394a-afb0-4830-9b02-8a2b56ebf74e"
      },
      "execution_count": 20,
      "outputs": [
        {
          "output_type": "execute_result",
          "data": {
            "text/plain": [
              "    toxic  severe_toxic  obscene  threat  insult  identity_hate  non_toxic\n",
              "5       0             0        0       0       0              0          1\n",
              "7       0             0        0       0       0              0          1\n",
              "11      0             0        0       0       0              0          1"
            ],
            "text/html": [
              "\n",
              "  <div id=\"df-7470e29f-50e8-4916-b2ff-ba3de57024f8\">\n",
              "    <div class=\"colab-df-container\">\n",
              "      <div>\n",
              "<style scoped>\n",
              "    .dataframe tbody tr th:only-of-type {\n",
              "        vertical-align: middle;\n",
              "    }\n",
              "\n",
              "    .dataframe tbody tr th {\n",
              "        vertical-align: top;\n",
              "    }\n",
              "\n",
              "    .dataframe thead th {\n",
              "        text-align: right;\n",
              "    }\n",
              "</style>\n",
              "<table border=\"1\" class=\"dataframe\">\n",
              "  <thead>\n",
              "    <tr style=\"text-align: right;\">\n",
              "      <th></th>\n",
              "      <th>toxic</th>\n",
              "      <th>severe_toxic</th>\n",
              "      <th>obscene</th>\n",
              "      <th>threat</th>\n",
              "      <th>insult</th>\n",
              "      <th>identity_hate</th>\n",
              "      <th>non_toxic</th>\n",
              "    </tr>\n",
              "  </thead>\n",
              "  <tbody>\n",
              "    <tr>\n",
              "      <th>5</th>\n",
              "      <td>0</td>\n",
              "      <td>0</td>\n",
              "      <td>0</td>\n",
              "      <td>0</td>\n",
              "      <td>0</td>\n",
              "      <td>0</td>\n",
              "      <td>1</td>\n",
              "    </tr>\n",
              "    <tr>\n",
              "      <th>7</th>\n",
              "      <td>0</td>\n",
              "      <td>0</td>\n",
              "      <td>0</td>\n",
              "      <td>0</td>\n",
              "      <td>0</td>\n",
              "      <td>0</td>\n",
              "      <td>1</td>\n",
              "    </tr>\n",
              "    <tr>\n",
              "      <th>11</th>\n",
              "      <td>0</td>\n",
              "      <td>0</td>\n",
              "      <td>0</td>\n",
              "      <td>0</td>\n",
              "      <td>0</td>\n",
              "      <td>0</td>\n",
              "      <td>1</td>\n",
              "    </tr>\n",
              "  </tbody>\n",
              "</table>\n",
              "</div>\n",
              "      <button class=\"colab-df-convert\" onclick=\"convertToInteractive('df-7470e29f-50e8-4916-b2ff-ba3de57024f8')\"\n",
              "              title=\"Convert this dataframe to an interactive table.\"\n",
              "              style=\"display:none;\">\n",
              "        \n",
              "  <svg xmlns=\"http://www.w3.org/2000/svg\" height=\"24px\"viewBox=\"0 0 24 24\"\n",
              "       width=\"24px\">\n",
              "    <path d=\"M0 0h24v24H0V0z\" fill=\"none\"/>\n",
              "    <path d=\"M18.56 5.44l.94 2.06.94-2.06 2.06-.94-2.06-.94-.94-2.06-.94 2.06-2.06.94zm-11 1L8.5 8.5l.94-2.06 2.06-.94-2.06-.94L8.5 2.5l-.94 2.06-2.06.94zm10 10l.94 2.06.94-2.06 2.06-.94-2.06-.94-.94-2.06-.94 2.06-2.06.94z\"/><path d=\"M17.41 7.96l-1.37-1.37c-.4-.4-.92-.59-1.43-.59-.52 0-1.04.2-1.43.59L10.3 9.45l-7.72 7.72c-.78.78-.78 2.05 0 2.83L4 21.41c.39.39.9.59 1.41.59.51 0 1.02-.2 1.41-.59l7.78-7.78 2.81-2.81c.8-.78.8-2.07 0-2.86zM5.41 20L4 18.59l7.72-7.72 1.47 1.35L5.41 20z\"/>\n",
              "  </svg>\n",
              "      </button>\n",
              "      \n",
              "  <style>\n",
              "    .colab-df-container {\n",
              "      display:flex;\n",
              "      flex-wrap:wrap;\n",
              "      gap: 12px;\n",
              "    }\n",
              "\n",
              "    .colab-df-convert {\n",
              "      background-color: #E8F0FE;\n",
              "      border: none;\n",
              "      border-radius: 50%;\n",
              "      cursor: pointer;\n",
              "      display: none;\n",
              "      fill: #1967D2;\n",
              "      height: 32px;\n",
              "      padding: 0 0 0 0;\n",
              "      width: 32px;\n",
              "    }\n",
              "\n",
              "    .colab-df-convert:hover {\n",
              "      background-color: #E2EBFA;\n",
              "      box-shadow: 0px 1px 2px rgba(60, 64, 67, 0.3), 0px 1px 3px 1px rgba(60, 64, 67, 0.15);\n",
              "      fill: #174EA6;\n",
              "    }\n",
              "\n",
              "    [theme=dark] .colab-df-convert {\n",
              "      background-color: #3B4455;\n",
              "      fill: #D2E3FC;\n",
              "    }\n",
              "\n",
              "    [theme=dark] .colab-df-convert:hover {\n",
              "      background-color: #434B5C;\n",
              "      box-shadow: 0px 1px 3px 1px rgba(0, 0, 0, 0.15);\n",
              "      filter: drop-shadow(0px 1px 2px rgba(0, 0, 0, 0.3));\n",
              "      fill: #FFFFFF;\n",
              "    }\n",
              "  </style>\n",
              "\n",
              "      <script>\n",
              "        const buttonEl =\n",
              "          document.querySelector('#df-7470e29f-50e8-4916-b2ff-ba3de57024f8 button.colab-df-convert');\n",
              "        buttonEl.style.display =\n",
              "          google.colab.kernel.accessAllowed ? 'block' : 'none';\n",
              "\n",
              "        async function convertToInteractive(key) {\n",
              "          const element = document.querySelector('#df-7470e29f-50e8-4916-b2ff-ba3de57024f8');\n",
              "          const dataTable =\n",
              "            await google.colab.kernel.invokeFunction('convertToInteractive',\n",
              "                                                     [key], {});\n",
              "          if (!dataTable) return;\n",
              "\n",
              "          const docLinkHtml = 'Like what you see? Visit the ' +\n",
              "            '<a target=\"_blank\" href=https://colab.research.google.com/notebooks/data_table.ipynb>data table notebook</a>'\n",
              "            + ' to learn more about interactive tables.';\n",
              "          element.innerHTML = '';\n",
              "          dataTable['output_type'] = 'display_data';\n",
              "          await google.colab.output.renderOutput(dataTable, element);\n",
              "          const docLink = document.createElement('div');\n",
              "          docLink.innerHTML = docLinkHtml;\n",
              "          element.appendChild(docLink);\n",
              "        }\n",
              "      </script>\n",
              "    </div>\n",
              "  </div>\n",
              "  "
            ]
          },
          "metadata": {},
          "execution_count": 20
        }
      ]
    },
    {
      "cell_type": "code",
      "metadata": {
        "id": "8I3zGZTirkUB",
        "outputId": "d9e0c0e5-214d-4f8c-ff2b-3627fd1d67f5",
        "colab": {
          "base_uri": "https://localhost:8080/"
        }
      },
      "source": [
        "list_class = [\"toxic\", \"severe_toxic\", \"obscene\", \"threat\", \"insult\", \"identity_hate\", \"non_toxic\"]\n",
        "y_train = train[list_class].values\n",
        "print(y_train)"
      ],
      "execution_count": 21,
      "outputs": [
        {
          "output_type": "stream",
          "name": "stdout",
          "text": [
            "[[0 0 0 ... 0 0 1]\n",
            " [0 0 0 ... 0 0 1]\n",
            " [0 0 0 ... 0 0 1]\n",
            " ...\n",
            " [0 0 0 ... 0 0 1]\n",
            " [0 0 0 ... 0 0 1]\n",
            " [0 0 0 ... 0 0 1]]\n"
          ]
        }
      ]
    },
    {
      "cell_type": "code",
      "metadata": {
        "id": "a8_FEiPSrkUE",
        "outputId": "f82c4187-f1ef-4201-95ab-d5733e603fb6",
        "colab": {
          "base_uri": "https://localhost:8080/"
        }
      },
      "source": [
        "X_test = test['comment_text'].values\n",
        "print(X_test[5])"
      ],
      "execution_count": 22,
      "outputs": [
        {
          "output_type": "stream",
          "name": "stdout",
          "text": [
            "this other one from 1897\n"
          ]
        }
      ]
    },
    {
      "cell_type": "code",
      "metadata": {
        "id": "C8sSyEF1rkUG",
        "outputId": "6aa63d30-1097-4663-86f3-8fd08e07644a",
        "colab": {
          "base_uri": "https://localhost:8080/"
        }
      },
      "source": [
        "y_test = test_labels.values\n",
        "print(y_test)"
      ],
      "execution_count": 23,
      "outputs": [
        {
          "output_type": "stream",
          "name": "stdout",
          "text": [
            "[[0 0 0 ... 0 0 1]\n",
            " [0 0 0 ... 0 0 1]\n",
            " [0 0 0 ... 0 0 1]\n",
            " ...\n",
            " [0 0 0 ... 0 0 1]\n",
            " [1 0 1 ... 1 0 0]\n",
            " [0 0 0 ... 0 0 1]]\n"
          ]
        }
      ]
    },
    {
      "cell_type": "code",
      "metadata": {
        "id": "Zx3OJnGZrkUJ",
        "outputId": "0adffa06-9c40-480b-d011-50417040394d",
        "colab": {
          "base_uri": "https://localhost:8080/"
        }
      },
      "source": [
        "# Checking final data and label shapes for training and testing:\n",
        "\n",
        "print(\"Training data shape: \",X_train.shape)\n",
        "print(\"Training labels shape after adding the non_toxic column: \",y_train.shape)\n",
        "print(\"Testing data shape: \",X_test.shape)\n",
        "print(\"Testing labels shape after adding the non_toxic column: \",y_test.shape)"
      ],
      "execution_count": 24,
      "outputs": [
        {
          "output_type": "stream",
          "name": "stdout",
          "text": [
            "Training data shape:  (159571,)\n",
            "Training labels shape after adding the non_toxic column:  (159571, 7)\n",
            "Testing data shape:  (63978,)\n",
            "Testing labels shape after adding the non_toxic column:  (63978, 7)\n"
          ]
        }
      ]
    },
    {
      "cell_type": "code",
      "metadata": {
        "id": "MXr2X-FCFJMZ",
        "outputId": "3e5d4c35-03d6-4001-c2d6-baaa00d84d1e",
        "colab": {
          "base_uri": "https://localhost:8080/",
          "height": 642
        }
      },
      "source": [
        "# Plotting histogram - training class distribution\n",
        "\n",
        "labels = ('toxic', 'severe_toxic', 'obscene', 'threat', 'insult', 'identity_hate', 'non_toxic')\n",
        "sns.set_style(\"white\")\n",
        "sns.set_context({\"figure.figsize\": (12, 10)})\n",
        "\n",
        "N = 7\n",
        "class_0 = (train.value_counts('toxic')[0], train.value_counts('severe_toxic')[0], train.value_counts('obscene')[0], train.value_counts('threat')[0], train.value_counts('insult')[0], train.value_counts('identity_hate')[0], train.value_counts('non_toxic')[1])\n",
        "print(class_0)\n",
        "class_1 = (train.value_counts('toxic')[1], train.value_counts('severe_toxic')[1], train.value_counts('obscene')[1], train.value_counts('threat')[1], train.value_counts('insult')[1], train.value_counts('identity_hate')[1], train.value_counts('non_toxic')[0])\n",
        "print(class_1)\n",
        "\n",
        "ind = np.arange(N)    # the x locations for the groups\n",
        "width = 0.3       # the width of the bars: can also be len(x) sequence\n",
        "\n",
        "p1 = plt.bar(ind, class_0, width, color='crimson')\n",
        "p2 = plt.bar(ind, class_1, width, color='orange', bottom=class_0)\n",
        "\n",
        "plt.ylabel('Per class divisions')\n",
        "plt.title('Number of counts (train)')\n",
        "plt.xticks(ind+width/14, labels)\n",
        "plt.yticks(np.arange(0,160000,5000))\n",
        "plt.legend((p1[0], p2[0]), ('Not Toxic', 'Toxic'))\n",
        "\n",
        "plt.show()"
      ],
      "execution_count": 25,
      "outputs": [
        {
          "output_type": "stream",
          "name": "stdout",
          "text": [
            "(144277, 157976, 151122, 159093, 151694, 158166, 143346)\n",
            "(15294, 1595, 8449, 478, 7877, 1405, 16225)\n"
          ]
        },
        {
          "output_type": "display_data",
          "data": {
            "text/plain": [
              "<Figure size 864x720 with 1 Axes>"
            ],
            "image/png": "[encoded data removed]"
          },
          "metadata": {}
        }
      ]
    },
    {
      "cell_type": "code",
      "metadata": {
        "id": "r2CK_hBXrkUZ",
        "outputId": "ef4fda7c-485b-42ff-ea2d-3051cb2551ff",
        "colab": {
          "base_uri": "https://localhost:8080/",
          "height": 642
        }
      },
      "source": [
        "# Plotting histogram - testing class distribution\n",
        "\n",
        "labels = ('toxic', 'severe_toxic', 'obscene', 'threat', 'insult', 'identity_hate', 'non_toxic')\n",
        "sns.set_style(\"white\")\n",
        "sns.set_context({\"figure.figsize\": (12, 10)})\n",
        "\n",
        "N = 7\n",
        "class_0 = (test_labels.value_counts('toxic')[0], test_labels.value_counts('severe_toxic')[0], test_labels.value_counts('obscene')[0], test_labels.value_counts('threat')[0], test_labels.value_counts('insult')[0], test_labels.value_counts('identity_hate')[0], test_labels.value_counts('non_toxic')[1])\n",
        "print(class_0)\n",
        "class_1 = (test_labels.value_counts('toxic')[1], test_labels.value_counts('severe_toxic')[1], test_labels.value_counts('obscene')[1], test_labels.value_counts('threat')[1], test_labels.value_counts('insult')[1], test_labels.value_counts('identity_hate')[1], test_labels.value_counts('non_toxic')[0])\n",
        "print(class_1)\n",
        "\n",
        "ind = np.arange(N)    # the x locations for the groups\n",
        "width = 0.3       # the width of the bars: can also be len(x) sequence\n",
        "\n",
        "p1 = plt.bar(ind, class_0, width, color='crimson')\n",
        "p2 = plt.bar(ind, class_1, width, color='orange', bottom=class_0)\n",
        "\n",
        "plt.ylabel('Per class divisions')\n",
        "plt.title('Number of counts (test)')\n",
        "plt.xticks(ind+width/14, labels)\n",
        "plt.yticks(np.arange(0,65000,5000))\n",
        "plt.legend((p1[0], p2[0]), ('Not Toxic', 'Toxic'))\n",
        "\n",
        "plt.show()"
      ],
      "execution_count": 26,
      "outputs": [
        {
          "output_type": "stream",
          "name": "stdout",
          "text": [
            "(57888, 63611, 60287, 63767, 60551, 63266, 57735)\n",
            "(6090, 367, 3691, 211, 3427, 712, 6243)\n"
          ]
        },
        {
          "output_type": "display_data",
          "data": {
            "text/plain": [
              "<Figure size 864x720 with 1 Axes>"
            ],
            "image/png": "[encoded data removed]"
          },
          "metadata": {}
        }
      ]
    },
    {
      "cell_type": "code",
      "source": [
        "# We observe significant number of non-toxic samples, creating a massive majority over the toxic samples(highly imbalanced). Could lead tooverfitting. "
      ],
      "metadata": {
        "id": "0Eco13EOOH8z"
      },
      "execution_count": 27,
      "outputs": []
    },
    {
      "cell_type": "code",
      "metadata": {
        "id": "rpXxObtQrkUc",
        "outputId": "c7ab91da-dbbd-468a-e106-9f5ac824f91b",
        "colab": {
          "base_uri": "https://localhost:8080/",
          "height": 494
        }
      },
      "source": [
        "# heatmap for training data\n",
        "fig = plt.figure(figsize = (9,7))\n",
        "sns.heatmap(train.corr(), annot=True, cmap=\"Reds\")\n",
        "plt.suptitle('Heatmap of Training label Class Correlation',size = 12)\n",
        "plt.xlabel(\"Classes\")\n",
        "plt.ylabel(\"Classes\")\n",
        "plt.show()"
      ],
      "execution_count": 28,
      "outputs": [
        {
          "output_type": "display_data",
          "data": {
            "text/plain": [
              "<Figure size 648x504 with 2 Axes>"
            ],
            "image/png": "[encoded data removed]"
          },
          "metadata": {}
        }
      ]
    },
    {
      "cell_type": "code",
      "metadata": {
        "id": "lyWkiprHCKUr",
        "outputId": "e2201ebe-1b5a-4136-a29c-81ab8279959d",
        "colab": {
          "base_uri": "https://localhost:8080/"
        }
      },
      "source": [
        "# Number of non_toxic samples:\n",
        "type_rows = train['non_toxic'].value_counts()\n",
        "non_toxic_rows = type_rows[1]\n",
        "toxic_rows = type_rows[0]\n",
        "non_toxic_rows"
      ],
      "execution_count": 29,
      "outputs": [
        {
          "output_type": "execute_result",
          "data": {
            "text/plain": [
              "143346"
            ]
          },
          "metadata": {},
          "execution_count": 29
        }
      ]
    },
    {
      "cell_type": "code",
      "metadata": {
        "id": "V0IA3Ft2CZVF",
        "outputId": "c13997ca-f431-4dc2-e8ae-29d194bee4d8",
        "colab": {
          "base_uri": "https://localhost:8080/"
        }
      },
      "source": [
        "# Imbalance ratio\n",
        "toxic_ratio = non_toxic_rows / len(train['non_toxic'])\n",
        "toxic_ratio"
      ],
      "execution_count": 30,
      "outputs": [
        {
          "output_type": "execute_result",
          "data": {
            "text/plain": [
              "0.8983211235124177"
            ]
          },
          "metadata": {},
          "execution_count": 30
        }
      ]
    },
    {
      "cell_type": "code",
      "metadata": {
        "id": "kiba3VsrY4Vq",
        "outputId": "ff8ca29d-4268-4a1a-e62f-5a9e727c7f36",
        "colab": {
          "base_uri": "https://localhost:8080/"
        }
      },
      "source": [
        "# Taking out 1.75 times of the data to bring the data to 1:3 ratio.\n",
        "count_to_be_kept = 3*toxic_rows\n",
        "count_to_be_kept"
      ],
      "execution_count": 31,
      "outputs": [
        {
          "output_type": "execute_result",
          "data": {
            "text/plain": [
              "48675"
            ]
          },
          "metadata": {},
          "execution_count": 31
        }
      ]
    },
    {
      "cell_type": "code",
      "source": [
        "y_train[:, :6]"
      ],
      "metadata": {
        "colab": {
          "base_uri": "https://localhost:8080/"
        },
        "id": "KdmJbDwex41h",
        "outputId": "3855b316-3f77-4d9a-a16b-fbef5a187254"
      },
      "execution_count": 32,
      "outputs": [
        {
          "output_type": "execute_result",
          "data": {
            "text/plain": [
              "array([[0, 0, 0, 0, 0, 0],\n",
              "       [0, 0, 0, 0, 0, 0],\n",
              "       [0, 0, 0, 0, 0, 0],\n",
              "       ...,\n",
              "       [0, 0, 0, 0, 0, 0],\n",
              "       [0, 0, 0, 0, 0, 0],\n",
              "       [0, 0, 0, 0, 0, 0]])"
            ]
          },
          "metadata": {},
          "execution_count": 32
        }
      ]
    },
    {
      "cell_type": "code",
      "source": [
        "# Selecting rows from a numpydarray: \n",
        "\n",
        "non_toxic_rows = np.where(~y_train[:, :6].any(axis=1))[0]\n",
        "non_toxic_rows"
      ],
      "metadata": {
        "colab": {
          "base_uri": "https://localhost:8080/"
        },
        "id": "UB6WeRkSs2Nu",
        "outputId": "f29d4c09-ce41-4958-f97f-9130e9e283d5"
      },
      "execution_count": 33,
      "outputs": [
        {
          "output_type": "execute_result",
          "data": {
            "text/plain": [
              "array([     0,      1,      2, ..., 159568, 159569, 159570])"
            ]
          },
          "metadata": {},
          "execution_count": 33
        }
      ]
    },
    {
      "cell_type": "code",
      "metadata": {
        "id": "kCftCqyuJwmR"
      },
      "source": [
        "# Get index  where rows of training labels are zeros for the first 90000 rows, to be dropped. \n",
        "drop_rows_indx = non_toxic_rows[0:90000] "
      ],
      "execution_count": 34,
      "outputs": []
    },
    {
      "cell_type": "code",
      "metadata": {
        "id": "7is3IJsXO1RK",
        "colab": {
          "base_uri": "https://localhost:8080/"
        },
        "outputId": "9c17b3e9-5931-4bc0-b908-b301c4fb9e47"
      },
      "source": [
        "drop_rows_indx.shape"
      ],
      "execution_count": 35,
      "outputs": [
        {
          "output_type": "execute_result",
          "data": {
            "text/plain": [
              "(90000,)"
            ]
          },
          "metadata": {},
          "execution_count": 35
        }
      ]
    },
    {
      "cell_type": "code",
      "metadata": {
        "id": "NbiDsPS7Jcq9",
        "colab": {
          "base_uri": "https://localhost:8080/"
        },
        "outputId": "7f8cf3e4-146b-4ddf-9a39-da73e3fbffff"
      },
      "source": [
        "# Dropping the rows from training data\n",
        "for indx in drop_rows_indx:\n",
        "    if indx%10000 == 0:\n",
        "        print(indx)\n",
        "    train = train.drop([indx], axis=0)"
      ],
      "execution_count": 36,
      "outputs": [
        {
          "output_type": "stream",
          "name": "stdout",
          "text": [
            "0\n",
            "10000\n",
            "20000\n",
            "30000\n",
            "40000\n",
            "60000\n",
            "70000\n",
            "80000\n",
            "90000\n",
            "100000\n"
          ]
        }
      ]
    },
    {
      "cell_type": "code",
      "metadata": {
        "id": "Yc4SQdmqLBjm",
        "outputId": "2cb67b7e-2abe-4076-9e91-6bd1b5d4f9f1",
        "colab": {
          "base_uri": "https://localhost:8080/"
        }
      },
      "source": [
        "train.shape"
      ],
      "execution_count": 37,
      "outputs": [
        {
          "output_type": "execute_result",
          "data": {
            "text/plain": [
              "(69571, 8)"
            ]
          },
          "metadata": {},
          "execution_count": 37
        }
      ]
    },
    {
      "cell_type": "code",
      "metadata": {
        "id": "QGuJtKdALlqE",
        "outputId": "3ceee2cb-3ce8-44e7-e7c6-702706e004ef",
        "colab": {
          "base_uri": "https://localhost:8080/",
          "height": 363
        }
      },
      "source": [
        "train.head(10)"
      ],
      "execution_count": 38,
      "outputs": [
        {
          "output_type": "execute_result",
          "data": {
            "text/plain": [
              "                                         comment_text  toxic  severe_toxic  \\\n",
              "6        cocksucker before you piss around on my work      1             1   \n",
              "12  hey what is it talk what is it an exclusive gr...      1             0   \n",
              "16  bye dont look come or think of comming back to...      1             0   \n",
              "42  you are gay or antisemmitian archangel white t...      1             0   \n",
              "43             fuck your filthy mother in the ass dry      1             0   \n",
              "44  im sorry im sorry i screwed around with someon...      1             0   \n",
              "51  get fucked up get fuckeeed up got a drink that...      1             0   \n",
              "55  stupid peace of shit stop deleting my stuff as...      1             1   \n",
              "56  tony sidaway is obviously a fistfuckee he love...      1             0   \n",
              "58  my band pages deletion you thought i was gone ...      1             0   \n",
              "\n",
              "    obscene  threat  insult  identity_hate  non_toxic  \n",
              "6         1       0       1              0          0  \n",
              "12        0       0       0              0          0  \n",
              "16        0       0       0              0          0  \n",
              "42        1       0       1              1          0  \n",
              "43        1       0       1              0          0  \n",
              "44        0       0       0              0          0  \n",
              "51        1       0       0              0          0  \n",
              "55        1       0       1              0          0  \n",
              "56        1       0       1              0          0  \n",
              "58        1       0       0              0          0  "
            ],
            "text/html": [
              "\n",
              "  <div id=\"df-9436a1dc-d94e-4778-8d0e-e5dbb66d9963\">\n",
              "    <div class=\"colab-df-container\">\n",
              "      <div>\n",
              "<style scoped>\n",
              "    .dataframe tbody tr th:only-of-type {\n",
              "        vertical-align: middle;\n",
              "    }\n",
              "\n",
              "    .dataframe tbody tr th {\n",
              "        vertical-align: top;\n",
              "    }\n",
              "\n",
              "    .dataframe thead th {\n",
              "        text-align: right;\n",
              "    }\n",
              "</style>\n",
              "<table border=\"1\" class=\"dataframe\">\n",
              "  <thead>\n",
              "    <tr style=\"text-align: right;\">\n",
              "      <th></th>\n",
              "      <th>comment_text</th>\n",
              "      <th>toxic</th>\n",
              "      <th>severe_toxic</th>\n",
              "      <th>obscene</th>\n",
              "      <th>threat</th>\n",
              "      <th>insult</th>\n",
              "      <th>identity_hate</th>\n",
              "      <th>non_toxic</th>\n",
              "    </tr>\n",
              "  </thead>\n",
              "  <tbody>\n",
              "    <tr>\n",
              "      <th>6</th>\n",
              "      <td>cocksucker before you piss around on my work</td>\n",
              "      <td>1</td>\n",
              "      <td>1</td>\n",
              "      <td>1</td>\n",
              "      <td>0</td>\n",
              "      <td>1</td>\n",
              "      <td>0</td>\n",
              "      <td>0</td>\n",
              "    </tr>\n",
              "    <tr>\n",
              "      <th>12</th>\n",
              "      <td>hey what is it talk what is it an exclusive gr...</td>\n",
              "      <td>1</td>\n",
              "      <td>0</td>\n",
              "      <td>0</td>\n",
              "      <td>0</td>\n",
              "      <td>0</td>\n",
              "      <td>0</td>\n",
              "      <td>0</td>\n",
              "    </tr>\n",
              "    <tr>\n",
              "      <th>16</th>\n",
              "      <td>bye dont look come or think of comming back to...</td>\n",
              "      <td>1</td>\n",
              "      <td>0</td>\n",
              "      <td>0</td>\n",
              "      <td>0</td>\n",
              "      <td>0</td>\n",
              "      <td>0</td>\n",
              "      <td>0</td>\n",
              "    </tr>\n",
              "    <tr>\n",
              "      <th>42</th>\n",
              "      <td>you are gay or antisemmitian archangel white t...</td>\n",
              "      <td>1</td>\n",
              "      <td>0</td>\n",
              "      <td>1</td>\n",
              "      <td>0</td>\n",
              "      <td>1</td>\n",
              "      <td>1</td>\n",
              "      <td>0</td>\n",
              "    </tr>\n",
              "    <tr>\n",
              "      <th>43</th>\n",
              "      <td>fuck your filthy mother in the ass dry</td>\n",
              "      <td>1</td>\n",
              "      <td>0</td>\n",
              "      <td>1</td>\n",
              "      <td>0</td>\n",
              "      <td>1</td>\n",
              "      <td>0</td>\n",
              "      <td>0</td>\n",
              "    </tr>\n",
              "    <tr>\n",
              "      <th>44</th>\n",
              "      <td>im sorry im sorry i screwed around with someon...</td>\n",
              "      <td>1</td>\n",
              "      <td>0</td>\n",
              "      <td>0</td>\n",
              "      <td>0</td>\n",
              "      <td>0</td>\n",
              "      <td>0</td>\n",
              "      <td>0</td>\n",
              "    </tr>\n",
              "    <tr>\n",
              "      <th>51</th>\n",
              "      <td>get fucked up get fuckeeed up got a drink that...</td>\n",
              "      <td>1</td>\n",
              "      <td>0</td>\n",
              "      <td>1</td>\n",
              "      <td>0</td>\n",
              "      <td>0</td>\n",
              "      <td>0</td>\n",
              "      <td>0</td>\n",
              "    </tr>\n",
              "    <tr>\n",
              "      <th>55</th>\n",
              "      <td>stupid peace of shit stop deleting my stuff as...</td>\n",
              "      <td>1</td>\n",
              "      <td>1</td>\n",
              "      <td>1</td>\n",
              "      <td>0</td>\n",
              "      <td>1</td>\n",
              "      <td>0</td>\n",
              "      <td>0</td>\n",
              "    </tr>\n",
              "    <tr>\n",
              "      <th>56</th>\n",
              "      <td>tony sidaway is obviously a fistfuckee he love...</td>\n",
              "      <td>1</td>\n",
              "      <td>0</td>\n",
              "      <td>1</td>\n",
              "      <td>0</td>\n",
              "      <td>1</td>\n",
              "      <td>0</td>\n",
              "      <td>0</td>\n",
              "    </tr>\n",
              "    <tr>\n",
              "      <th>58</th>\n",
              "      <td>my band pages deletion you thought i was gone ...</td>\n",
              "      <td>1</td>\n",
              "      <td>0</td>\n",
              "      <td>1</td>\n",
              "      <td>0</td>\n",
              "      <td>0</td>\n",
              "      <td>0</td>\n",
              "      <td>0</td>\n",
              "    </tr>\n",
              "  </tbody>\n",
              "</table>\n",
              "</div>\n",
              "      <button class=\"colab-df-convert\" onclick=\"convertToInteractive('df-9436a1dc-d94e-4778-8d0e-e5dbb66d9963')\"\n",
              "              title=\"Convert this dataframe to an interactive table.\"\n",
              "              style=\"display:none;\">\n",
              "        \n",
              "  <svg xmlns=\"http://www.w3.org/2000/svg\" height=\"24px\"viewBox=\"0 0 24 24\"\n",
              "       width=\"24px\">\n",
              "    <path d=\"M0 0h24v24H0V0z\" fill=\"none\"/>\n",
              "    <path d=\"M18.56 5.44l.94 2.06.94-2.06 2.06-.94-2.06-.94-.94-2.06-.94 2.06-2.06.94zm-11 1L8.5 8.5l.94-2.06 2.06-.94-2.06-.94L8.5 2.5l-.94 2.06-2.06.94zm10 10l.94 2.06.94-2.06 2.06-.94-2.06-.94-.94-2.06-.94 2.06-2.06.94z\"/><path d=\"M17.41 7.96l-1.37-1.37c-.4-.4-.92-.59-1.43-.59-.52 0-1.04.2-1.43.59L10.3 9.45l-7.72 7.72c-.78.78-.78 2.05 0 2.83L4 21.41c.39.39.9.59 1.41.59.51 0 1.02-.2 1.41-.59l7.78-7.78 2.81-2.81c.8-.78.8-2.07 0-2.86zM5.41 20L4 18.59l7.72-7.72 1.47 1.35L5.41 20z\"/>\n",
              "  </svg>\n",
              "      </button>\n",
              "      \n",
              "  <style>\n",
              "    .colab-df-container {\n",
              "      display:flex;\n",
              "      flex-wrap:wrap;\n",
              "      gap: 12px;\n",
              "    }\n",
              "\n",
              "    .colab-df-convert {\n",
              "      background-color: #E8F0FE;\n",
              "      border: none;\n",
              "      border-radius: 50%;\n",
              "      cursor: pointer;\n",
              "      display: none;\n",
              "      fill: #1967D2;\n",
              "      height: 32px;\n",
              "      padding: 0 0 0 0;\n",
              "      width: 32px;\n",
              "    }\n",
              "\n",
              "    .colab-df-convert:hover {\n",
              "      background-color: #E2EBFA;\n",
              "      box-shadow: 0px 1px 2px rgba(60, 64, 67, 0.3), 0px 1px 3px 1px rgba(60, 64, 67, 0.15);\n",
              "      fill: #174EA6;\n",
              "    }\n",
              "\n",
              "    [theme=dark] .colab-df-convert {\n",
              "      background-color: #3B4455;\n",
              "      fill: #D2E3FC;\n",
              "    }\n",
              "\n",
              "    [theme=dark] .colab-df-convert:hover {\n",
              "      background-color: #434B5C;\n",
              "      box-shadow: 0px 1px 3px 1px rgba(0, 0, 0, 0.15);\n",
              "      filter: drop-shadow(0px 1px 2px rgba(0, 0, 0, 0.3));\n",
              "      fill: #FFFFFF;\n",
              "    }\n",
              "  </style>\n",
              "\n",
              "      <script>\n",
              "        const buttonEl =\n",
              "          document.querySelector('#df-9436a1dc-d94e-4778-8d0e-e5dbb66d9963 button.colab-df-convert');\n",
              "        buttonEl.style.display =\n",
              "          google.colab.kernel.accessAllowed ? 'block' : 'none';\n",
              "\n",
              "        async function convertToInteractive(key) {\n",
              "          const element = document.querySelector('#df-9436a1dc-d94e-4778-8d0e-e5dbb66d9963');\n",
              "          const dataTable =\n",
              "            await google.colab.kernel.invokeFunction('convertToInteractive',\n",
              "                                                     [key], {});\n",
              "          if (!dataTable) return;\n",
              "\n",
              "          const docLinkHtml = 'Like what you see? Visit the ' +\n",
              "            '<a target=\"_blank\" href=https://colab.research.google.com/notebooks/data_table.ipynb>data table notebook</a>'\n",
              "            + ' to learn more about interactive tables.';\n",
              "          element.innerHTML = '';\n",
              "          dataTable['output_type'] = 'display_data';\n",
              "          await google.colab.output.renderOutput(dataTable, element);\n",
              "          const docLink = document.createElement('div');\n",
              "          docLink.innerHTML = docLinkHtml;\n",
              "          element.appendChild(docLink);\n",
              "        }\n",
              "      </script>\n",
              "    </div>\n",
              "  </div>\n",
              "  "
            ]
          },
          "metadata": {},
          "execution_count": 38
        }
      ]
    },
    {
      "cell_type": "code",
      "metadata": {
        "id": "CKZnnM3SLw0N",
        "outputId": "07dccfb6-84a6-48e3-da59-10a32e6a37aa",
        "colab": {
          "base_uri": "https://localhost:8080/"
        }
      },
      "source": [
        "for label in labels:\n",
        "    print(\"total class of 1 and 0:\", train[label].value_counts())"
      ],
      "execution_count": 39,
      "outputs": [
        {
          "output_type": "stream",
          "name": "stdout",
          "text": [
            "total class of 1 and 0: 0    54277\n",
            "1    15294\n",
            "Name: toxic, dtype: int64\n",
            "total class of 1 and 0: 0    67976\n",
            "1     1595\n",
            "Name: severe_toxic, dtype: int64\n",
            "total class of 1 and 0: 0    61122\n",
            "1     8449\n",
            "Name: obscene, dtype: int64\n",
            "total class of 1 and 0: 0    69093\n",
            "1      478\n",
            "Name: threat, dtype: int64\n",
            "total class of 1 and 0: 0    61694\n",
            "1     7877\n",
            "Name: insult, dtype: int64\n",
            "total class of 1 and 0: 0    68166\n",
            "1     1405\n",
            "Name: identity_hate, dtype: int64\n",
            "total class of 1 and 0: 1    53346\n",
            "0    16225\n",
            "Name: non_toxic, dtype: int64\n"
          ]
        }
      ]
    },
    {
      "cell_type": "markdown",
      "metadata": {
        "id": "tg2UffOlhavU"
      },
      "source": [
        "- The distribution of labels is slightly more balanced than before"
      ]
    },
    {
      "cell_type": "code",
      "metadata": {
        "id": "0BgQl_q1XPqy",
        "outputId": "7495630d-092d-4270-cae9-d97f185ae52d",
        "colab": {
          "base_uri": "https://localhost:8080/"
        }
      },
      "source": [
        "# Updating X_train\n",
        "X_train = train[\"comment_text\"].values\n",
        "print(X_train[:5])"
      ],
      "execution_count": 40,
      "outputs": [
        {
          "output_type": "stream",
          "name": "stdout",
          "text": [
            "['cocksucker before you piss around on my work'\n",
            " 'hey what is it talk what is it an exclusive group of some wp talibanswho are good at destroying self appointed purist who gang up any one who asks them questions abt their anti social and destructive non contribution at wp ask sityush to clean up his behavior than issue me nonsensical warnings'\n",
            " 'bye dont look come or think of comming back tosser'\n",
            " 'you are gay or antisemmitian archangel white tiger meow greetingshhh uh there are two ways why you do erased my comment about ww2 that holocaust was brutally slaying of jews and not gaysgypsysslavsanyone 1 if you are anti semitian than shave your head bald and go to the skinhead meetings 2 if you doubt words of the bible that homosexuality is a deadly sin make a pentagram tatoo on your forehead go to the satanistic masses with your gay pals 3 first and last warning you fucking gay i wont appreciate if any more nazi shwain would write in my page i dont wish to talk to you anymore beware of the dark side'\n",
            " 'fuck your filthy mother in the ass dry']\n"
          ]
        }
      ]
    },
    {
      "cell_type": "code",
      "metadata": {
        "id": "sXq3n6gPcvYZ",
        "outputId": "1c35c8f1-705c-4640-a859-29b927da620f",
        "colab": {
          "base_uri": "https://localhost:8080/"
        }
      },
      "source": [
        "# store training labels in y\n",
        "labels = [\"toxic\", \"severe_toxic\", \"obscene\", \"threat\", \"insult\", \"identity_hate\", \"non_toxic\"]\n",
        "y_train = train[labels].values\n",
        "print(y_train)"
      ],
      "execution_count": 41,
      "outputs": [
        {
          "output_type": "stream",
          "name": "stdout",
          "text": [
            "[[1 1 1 ... 1 0 0]\n",
            " [1 0 0 ... 0 0 0]\n",
            " [1 0 0 ... 0 0 0]\n",
            " ...\n",
            " [0 0 0 ... 0 0 1]\n",
            " [0 0 0 ... 0 0 1]\n",
            " [0 0 0 ... 0 0 1]]\n"
          ]
        }
      ]
    },
    {
      "cell_type": "code",
      "metadata": {
        "id": "t0jFVMzsd3Zo",
        "outputId": "da5cd9bc-d182-4204-d3f5-6e86f259a5ce",
        "colab": {
          "base_uri": "https://localhost:8080/"
        }
      },
      "source": [
        "print(X_train.shape, y_train.shape)"
      ],
      "execution_count": 42,
      "outputs": [
        {
          "output_type": "stream",
          "name": "stdout",
          "text": [
            "(69571,) (69571, 7)\n"
          ]
        }
      ]
    },
    {
      "cell_type": "code",
      "metadata": {
        "id": "51sfkRaVrkUq"
      },
      "source": [
        "# Maximum feature vectors to be consdered\n",
        "max_words = 20000 \n",
        "\n",
        "# Maximum length of comments to be considered (Padding each comment to the same length)\n",
        "max_length = 500"
      ],
      "execution_count": 43,
      "outputs": []
    },
    {
      "cell_type": "code",
      "metadata": {
        "id": "wRuNEC_DsHDy"
      },
      "source": [
        "# Tokenization: https://www.tensorflow.org/api_docs/python/tf/keras/preprocessing/sequence/pad_sequences\n",
        "\n",
        "tokenizer = text.Tokenizer(max_words)\n",
        "\n",
        "tokenizer.fit_on_texts(list(X_train))\n",
        "\n",
        "X_train_token = tokenizer.texts_to_sequences(X_train)\n",
        "\n",
        "X_train_final = sequence.pad_sequences(X_train_token, maxlen = max_length) # Padding to a length of 500"
      ],
      "execution_count": 44,
      "outputs": []
    },
    {
      "cell_type": "code",
      "metadata": {
        "id": "qUKUTYmsrkUu"
      },
      "source": [
        "# Tokenizing test the same way as train\n",
        "\n",
        "X_test_tokenized = tokenizer.texts_to_sequences(X_test)\n",
        "\n",
        "X_test_final = sequence.pad_sequences(X_test_tokenized,maxlen = max_length) "
      ],
      "execution_count": 45,
      "outputs": []
    },
    {
      "cell_type": "code",
      "metadata": {
        "id": "YTSlrTEOqcW8",
        "colab": {
          "base_uri": "https://localhost:8080/"
        },
        "outputId": "50ceb5cc-1705-455a-9016-076214760b69"
      },
      "source": [
        "# Initializing glove data\n",
        "!wget http://nlp.stanford.edu/data/glove.6B.zip\n",
        "!unzip -q glove.6B.zip"
      ],
      "execution_count": 46,
      "outputs": [
        {
          "output_type": "stream",
          "name": "stdout",
          "text": [
            "--2022-04-25 01:15:42--  http://nlp.stanford.edu/data/glove.6B.zip\n",
            "Resolving nlp.stanford.edu (nlp.stanford.edu)... 171.64.67.140\n",
            "Connecting to nlp.stanford.edu (nlp.stanford.edu)|171.64.67.140|:80... connected.\n",
            "HTTP request sent, awaiting response... 302 Found\n",
            "Location: https://nlp.stanford.edu/data/glove.6B.zip [following]\n",
            "--2022-04-25 01:15:42--  https://nlp.stanford.edu/data/glove.6B.zip\n",
            "Connecting to nlp.stanford.edu (nlp.stanford.edu)|171.64.67.140|:443... connected.\n",
            "HTTP request sent, awaiting response... 301 Moved Permanently\n",
            "Location: http://downloads.cs.stanford.edu/nlp/data/glove.6B.zip [following]\n",
            "--2022-04-25 01:15:42--  http://downloads.cs.stanford.edu/nlp/data/glove.6B.zip\n",
            "Resolving downloads.cs.stanford.edu (downloads.cs.stanford.edu)... 171.64.64.22\n",
            "Connecting to downloads.cs.stanford.edu (downloads.cs.stanford.edu)|171.64.64.22|:80... connected.\n",
            "HTTP request sent, awaiting response... 200 OK\n",
            "Length: 862182613 (822M) [application/zip]\n",
            "Saving to: ‘glove.6B.zip’\n",
            "\n",
            "glove.6B.zip        100%[===================>] 822.24M  5.06MB/s    in 2m 40s  \n",
            "\n",
            "2022-04-25 01:18:23 (5.14 MB/s) - ‘glove.6B.zip’ saved [862182613/862182613]\n",
            "\n"
          ]
        }
      ]
    },
    {
      "cell_type": "code",
      "metadata": {
        "id": "08VYEZ8DqwRH"
      },
      "source": [
        "# Referring to: https://analyticsindiamag.com/hands-on-guide-to-word-embeddings-using-glove/\n",
        "\n",
        "# Dictionary holding words and their corresponding vectors:\n",
        "embed_dict = {}\n",
        "\n",
        "f = open('glove.6B.100d.txt')\n",
        "\n",
        "for line in f:\n",
        "    values = line.split()\n",
        "    \n",
        "    word = values[0]\n",
        "\n",
        "    vector = np.asarray(values[1:],dtype = 'float32')\n",
        "    \n",
        "    # Populating embed dictionary:\n",
        "    embed_dict[word]=vector \n",
        "    \n",
        "f.close()"
      ],
      "execution_count": 47,
      "outputs": []
    },
    {
      "cell_type": "code",
      "source": [
        "# Distributed Stochastic Gradient Neighbor Embeddings for visualizing the embedded vectors:\n",
        "\n",
        "# Trying to break it down into 2 components: (inferior to 4 for the barnes_hut algorithm as it relies on quad-tree or oct-tree)\n",
        "\n",
        "distri = TSNE(n_components = 2)\n",
        "words = list(embed_dict.keys())\n",
        "vectors = [embed_dict[word] for word in words]\n",
        "y = distri.fit_transform(vectors[700:850])\n",
        "plt.figure(figsize=(16,8))\n",
        "plt.scatter(y[:, 0],y[:,1])\n",
        "for label,x,y in zip(words,y[:, 0],y[:,1]):\n",
        "  plt.annotate(label,xy=(x,y),xytext=(0,0),textcoords='offset points')\n",
        "plt.show()"
      ],
      "metadata": {
        "colab": {
          "base_uri": "https://localhost:8080/",
          "height": 553
        },
        "id": "skoiYlO6BsHc",
        "outputId": "2b8e45bf-a15c-41c9-ac08-1bcb9a18dea0"
      },
      "execution_count": 48,
      "outputs": [
        {
          "output_type": "stream",
          "name": "stderr",
          "text": [
            "/usr/local/lib/python3.7/dist-packages/sklearn/manifold/_t_sne.py:783: FutureWarning: The default initialization in TSNE will change from 'random' to 'pca' in 1.2.\n",
            "  FutureWarning,\n",
            "/usr/local/lib/python3.7/dist-packages/sklearn/manifold/_t_sne.py:793: FutureWarning: The default learning rate in TSNE will change from 200.0 to 'auto' in 1.2.\n",
            "  FutureWarning,\n"
          ]
        },
        {
          "output_type": "display_data",
          "data": {
            "text/plain": [
              "<Figure size 1152x576 with 1 Axes>"
            ],
            "image/png": "[encoded data removed]"
          },
          "metadata": {}
        }
      ]
    },
    {
      "cell_type": "code",
      "metadata": {
        "id": "ZrnEtoTurkU7"
      },
      "source": [
        "# Preparing the embedding_matrix:\n",
        "\n",
        "embedding_dim = 100\n",
        "\n",
        "# Matrix of 20000*100 dimension:\n",
        "embed_matrix = np.zeros((max_words, embedding_dim))\n",
        "\n",
        "for word, index in tokenizer.word_index.items():\n",
        "    \n",
        "    if index > max_words - 1: \n",
        "        break\n",
        "    else:\n",
        "        embedding_vector = embed_dict.get(word)\n",
        "    if embedding_vector is not None:\n",
        "        embed_matrix[index] = embedding_vector"
      ],
      "execution_count": 49,
      "outputs": []
    },
    {
      "cell_type": "code",
      "metadata": {
        "id": "q1G6BHHQrkU-",
        "outputId": "c61fcbe2-8699-4e53-9789-531e897287bc",
        "colab": {
          "base_uri": "https://localhost:8080/"
        }
      },
      "source": [
        "print(embed_matrix, \"\\n\", embed_matrix.shape)"
      ],
      "execution_count": 50,
      "outputs": [
        {
          "output_type": "stream",
          "name": "stdout",
          "text": [
            "[[ 0.          0.          0.         ...  0.          0.\n",
            "   0.        ]\n",
            " [-0.038194   -0.24487001  0.72812003 ... -0.1459      0.82779998\n",
            "   0.27061999]\n",
            " [-0.18970001  0.050024    0.19084001 ... -0.39804     0.47646999\n",
            "  -0.15983   ]\n",
            " ...\n",
            " [ 0.39196    -0.38778999  1.02789998 ...  0.66882002  0.044777\n",
            "   0.22894   ]\n",
            " [ 0.49978    -0.61862999 -0.22713    ... -0.30030999 -0.37156999\n",
            "  -0.63499999]\n",
            " [-0.036762   -0.72149003 -0.30434    ...  0.68239999 -0.69963002\n",
            "  -0.032934  ]] \n",
            " (20000, 100)\n"
          ]
        }
      ]
    },
    {
      "cell_type": "code",
      "metadata": {
        "id": "XyD6xlkTtwIY",
        "outputId": "fc239208-1dd6-4bd3-c314-fe00d02220c8",
        "colab": {
          "base_uri": "https://localhost:8080/"
        }
      },
      "source": [
        "# Check shape of data\n",
        "print(X_train_final.shape, y_train.shape)"
      ],
      "execution_count": 51,
      "outputs": [
        {
          "output_type": "stream",
          "name": "stdout",
          "text": [
            "(69571, 500) (69571, 7)\n"
          ]
        }
      ]
    },
    {
      "cell_type": "code",
      "metadata": {
        "id": "Td0VbtI1rkVV"
      },
      "source": [
        "# Train Test Split using the sklearn package: https://scikit-learn.org/stable/modules/generated/sklearn.model_selection.train_test_split.html\n",
        "\n",
        "X_train, X_valid, y_train, y_valid = train_test_split(X_train_final, y_train,\n",
        "                                              test_size = 0.3,\n",
        "                                              shuffle = True,\n",
        "                                              random_state = 1)"
      ],
      "execution_count": 52,
      "outputs": []
    },
    {
      "cell_type": "code",
      "metadata": {
        "id": "WH4gXql5rkVY",
        "outputId": "58a5730d-bfb2-4310-9068-5c49466b96d5",
        "colab": {
          "base_uri": "https://localhost:8080/"
        }
      },
      "source": [
        "print(\"Training: Data Shape: \", X_train.shape, \"Labels shape:\", y_train.shape)\n",
        "\n",
        "# Has a max length of 500"
      ],
      "execution_count": 53,
      "outputs": [
        {
          "output_type": "stream",
          "name": "stdout",
          "text": [
            "Training: Data Shape:  (48699, 500) Labels shape: (48699, 7)\n"
          ]
        }
      ]
    },
    {
      "cell_type": "code",
      "metadata": {
        "id": "kAJqFGsQfoGG",
        "outputId": "171582ea-f759-421c-f063-6c93427e2be6",
        "colab": {
          "base_uri": "https://localhost:8080/"
        }
      },
      "source": [
        "print(\"Validation: Data Shape: \", X_valid.shape, \"Labels shape:\", y_valid.shape)"
      ],
      "execution_count": 54,
      "outputs": [
        {
          "output_type": "stream",
          "name": "stdout",
          "text": [
            "Validation: Data Shape:  (20872, 500) Labels shape: (20872, 7)\n"
          ]
        }
      ]
    },
    {
      "cell_type": "code",
      "metadata": {
        "id": "cgShIK1xrkVj"
      },
      "source": [
        "def accuracy_curves(trained_model):\n",
        "    \n",
        "    plt.figure(figsize=(9,5))    \n",
        "    \n",
        "    n = len(trained_model.history['accuracy'])\n",
        "    \n",
        "    plt.plot(np.arange(0,n) + 1, trained_model.history['accuracy'], color='green',marker=\"^\")\n",
        "    print(\"Training Accuracy:\", trained_model.history['accuracy'][n-1])\n",
        "    plt.plot(np.arange(0,n)+ 1, trained_model.history['val_accuracy'],color = 'blue', marker = \"^\")  \n",
        "    print(\"Validation Accuracy:\", trained_model.history['val_accuracy'][n-1])\n",
        "\n",
        "    plt.legend(['Train Accuracy', 'Val Accuracy'], loc = \"center right\")\n",
        "    plt.grid(True)\n",
        "    \n",
        "    plt.gca().set_ylim(0,1)\n",
        "\n",
        "    plt.xlabel(\"Number of Epochs\")\n",
        "    plt.ylabel(\"Value\")\n",
        "    plt.title(\"Accuracy Curve\", fontname = \"Times New Roman\", size=14, y=0.927)\n",
        "    plt.show() "
      ],
      "execution_count": 78,
      "outputs": []
    },
    {
      "cell_type": "code",
      "source": [
        "def loss_curves(trained_model):\n",
        "    plt.figure(figsize=(9,5))    \n",
        "    \n",
        "    n = len(trained_model.history['loss'])\n",
        "\n",
        "    plt.plot(np.arange(0,n) + 1, trained_model.history['loss'], color = 'purple', marker=\"v\")\n",
        "    print(\"Training Loss:\", trained_model.history['loss'][n-1])\n",
        "    plt.plot(np.arange(0,n)+ 1, trained_model.history['val_loss'], color = 'pink', marker = \"v\")\n",
        "    print(\"Validation Loss:\", trained_model.history['val_loss'][n-1])\n",
        "\n",
        "    plt.legend(['Train Loss', 'Val Loss'], loc = \"center right\")\n",
        "    plt.grid(True)\n",
        "    \n",
        "    plt.gca().set_ylim(0,1)\n",
        "\n",
        "    plt.xlabel(\"Number of Epochs\")\n",
        "    plt.ylabel(\"Value\")\n",
        "    plt.title(\"Loss Curve\", fontname = \"Times New Roman\", size=14, y=0.927)\n",
        "    plt.show() "
      ],
      "metadata": {
        "id": "YIH2MLwbVNK2"
      },
      "execution_count": 79,
      "outputs": []
    },
    {
      "cell_type": "code",
      "metadata": {
        "id": "Vq_zIWOHrkVl"
      },
      "source": [
        "def model_validation(model):\n",
        "    \n",
        "    evaluation_summary = model.evaluate(X_valid, y_valid, verbose = 1)\n",
        "    \n",
        "    # print(evaluation_summary)\n",
        "\n",
        "    print('Validation loss:', evaluation_summary[0])\n",
        "    print(\"Validation accuracy:\" , evaluation_summary[1])"
      ],
      "execution_count": 56,
      "outputs": []
    },
    {
      "cell_type": "code",
      "metadata": {
        "id": "KK5w8SInhaxG"
      },
      "source": [
        "embedding_dim = 100\n",
        "max_features = 20000\n",
        "filters = 250\n",
        "kernel_size = 3\n",
        "hidden_dims = 250\n",
        "batch_size = 32\n",
        "n_epochs = 5\n",
        "actfn = 'relu'\n",
        "optimizer_ = tf.optimizers.SGD\n",
        "drop_rate = 0.4\n",
        "learningrate = 0.02"
      ],
      "execution_count": 57,
      "outputs": []
    },
    {
      "cell_type": "code",
      "metadata": {
        "id": "hwxUoY4WJbrt"
      },
      "source": [
        "def model1():\n",
        "    \n",
        "    model = Sequential()\n",
        "    \n",
        "    # Embedding layer\n",
        "    model.add(Embedding(max_features, embedding_dim, trainable = False\n",
        "                       ,embeddings_initializer = tf.keras.initializers.Constant(embed_matrix)))    \n",
        "    # First dropout\n",
        "    model.add(Dropout(drop_rate))\n",
        "    \n",
        "    # First convolutional layer (250 Filters, Kernel size 3 * 3, Padding actually not required)\n",
        "    model.add(Conv1D(filters, 3, padding = 'valid', activation = 'relu')) \n",
        "    \n",
        "    # Max pooling layer\n",
        "    model.add(MaxPooling1D())\n",
        "    \n",
        "    # Second convolutional layer (250 Filters, Kernel size 5 * 5, )\n",
        "    model.add(Conv1D(filters, 5, padding = 'valid', activation = 'relu'))\n",
        "    \n",
        "    # Global max pooling layer\n",
        "    model.add(GlobalMaxPooling1D())\n",
        "    \n",
        "    # Fully Connected Layer with 250 neurons (processing output from the 250 kernels in 2nd convolutional layer)\n",
        "    model.add(Dense(hidden_dims, activation = 'relu'))\n",
        "    \n",
        "    # Second dropout\n",
        "    model.add(Dropout(drop_rate))\n",
        "    \n",
        "    # final dense layer (Final 7 classifying outcomes, sigmoid activation function to provide probability of sample being of a particular class)\n",
        "    model.add(Dense(7, activation = 'sigmoid'))\n",
        "    \n",
        "    # Binary Cross Entropy since the output of each class is binary value.\n",
        "    # https://www.tensorflow.org/api_docs/python/tf/keras/metrics/BinaryCrossentropy\n",
        "    model.compile(loss = 'binary_crossentropy', optimizer = optimizer_(lr = 0.02), metrics = ['accuracy']) \n",
        "\n",
        "    return model"
      ],
      "execution_count": 60,
      "outputs": []
    },
    {
      "cell_type": "code",
      "metadata": {
        "id": "25yYpjaTJb4R",
        "outputId": "b51e5fd1-42da-4533-c27a-db2db540984a",
        "colab": {
          "base_uri": "https://localhost:8080/"
        }
      },
      "source": [
        "# call model_cnn to compile the model\n",
        "model = model1()\n",
        "    \n",
        "# fit the model\n",
        "trained_model1 = model.fit(X_train, y_train,\n",
        "              batch_size = batch_size,\n",
        "              epochs = n_epochs,\n",
        "              validation_data=(X_valid, y_valid))"
      ],
      "execution_count": 61,
      "outputs": [
        {
          "output_type": "stream",
          "name": "stderr",
          "text": [
            "/usr/local/lib/python3.7/dist-packages/keras/optimizer_v2/gradient_descent.py:102: UserWarning: The `lr` argument is deprecated, use `learning_rate` instead.\n",
            "  super(SGD, self).__init__(name, **kwargs)\n"
          ]
        },
        {
          "output_type": "stream",
          "name": "stdout",
          "text": [
            "Epoch 1/5\n",
            "1522/1522 [==============================] - 61s 32ms/step - loss: 0.2559 - accuracy: 0.7987 - val_loss: 0.1954 - val_accuracy: 0.8469\n",
            "Epoch 2/5\n",
            "1522/1522 [==============================] - 45s 30ms/step - loss: 0.1843 - accuracy: 0.8597 - val_loss: 0.1594 - val_accuracy: 0.8773\n",
            "Epoch 3/5\n",
            "1522/1522 [==============================] - 46s 30ms/step - loss: 0.1631 - accuracy: 0.8781 - val_loss: 0.1552 - val_accuracy: 0.8917\n",
            "Epoch 4/5\n",
            "1522/1522 [==============================] - 45s 30ms/step - loss: 0.1538 - accuracy: 0.8862 - val_loss: 0.1499 - val_accuracy: 0.8982\n",
            "Epoch 5/5\n",
            "1522/1522 [==============================] - 41s 27ms/step - loss: 0.1480 - accuracy: 0.8902 - val_loss: 0.1645 - val_accuracy: 0.8893\n"
          ]
        }
      ]
    },
    {
      "cell_type": "code",
      "metadata": {
        "id": "t1UwCbI-MDag",
        "outputId": "d7fce53c-744b-40fe-aac6-af663d58054e",
        "colab": {
          "base_uri": "https://localhost:8080/"
        }
      },
      "source": [
        "model_validation(model)"
      ],
      "execution_count": 62,
      "outputs": [
        {
          "output_type": "stream",
          "name": "stdout",
          "text": [
            "653/653 [==============================] - 7s 11ms/step - loss: 0.1645 - accuracy: 0.8893\n",
            "Validation loss: 0.16448481380939484\n",
            "Validation accuracy: 0.8892775177955627\n"
          ]
        }
      ]
    },
    {
      "cell_type": "code",
      "metadata": {
        "id": "k68I4ETXK7I6",
        "outputId": "ee92742f-1617-4f15-cff9-3cbf8d68194d",
        "colab": {
          "base_uri": "https://localhost:8080/",
          "height": 373
        }
      },
      "source": [
        "accuracy_curves(trained_model1)"
      ],
      "execution_count": 80,
      "outputs": [
        {
          "output_type": "stream",
          "name": "stdout",
          "text": [
            "Training Accuracy: 0.8901619911193848\n",
            "Validation Accuracy: 0.8892775177955627\n"
          ]
        },
        {
          "output_type": "display_data",
          "data": {
            "text/plain": [
              "<Figure size 648x360 with 1 Axes>"
            ],
            "image/png": "[encoded data removed]"
          },
          "metadata": {}
        }
      ]
    },
    {
      "cell_type": "code",
      "source": [
        "loss_curves(trained_model1)"
      ],
      "metadata": {
        "colab": {
          "base_uri": "https://localhost:8080/",
          "height": 373
        },
        "id": "dpP_VSTYWQNJ",
        "outputId": "a8e222b6-d91a-4d52-90ce-1728ee696f6c"
      },
      "execution_count": 81,
      "outputs": [
        {
          "output_type": "stream",
          "name": "stdout",
          "text": [
            "Training Loss: 0.14796532690525055\n",
            "Validation Loss: 0.16448481380939484\n"
          ]
        },
        {
          "output_type": "display_data",
          "data": {
            "text/plain": [
              "<Figure size 648x360 with 1 Axes>"
            ],
            "image/png": "[encoded data removed]"
          },
          "metadata": {}
        }
      ]
    },
    {
      "cell_type": "code",
      "source": [
        "n_epochs = 10 # Updating the n_epochs"
      ],
      "metadata": {
        "id": "ITZyREBtZT88"
      },
      "execution_count": 82,
      "outputs": []
    },
    {
      "cell_type": "code",
      "source": [
        "# call model_cnn to compile the model\n",
        "model = model1()\n",
        "    \n",
        "# fit the model\n",
        "trained_model1 = model.fit(X_train, y_train,\n",
        "              batch_size = batch_size,\n",
        "              epochs = n_epochs,\n",
        "              validation_data=(X_valid, y_valid))"
      ],
      "metadata": {
        "colab": {
          "base_uri": "https://localhost:8080/"
        },
        "id": "RZzcfysTZbAS",
        "outputId": "5b2e2ea9-5df5-4ba7-f910-c818022f2748"
      },
      "execution_count": 83,
      "outputs": [
        {
          "output_type": "stream",
          "name": "stdout",
          "text": [
            "Epoch 1/10\n"
          ]
        },
        {
          "output_type": "stream",
          "name": "stderr",
          "text": [
            "/usr/local/lib/python3.7/dist-packages/keras/optimizer_v2/gradient_descent.py:102: UserWarning: The `lr` argument is deprecated, use `learning_rate` instead.\n",
            "  super(SGD, self).__init__(name, **kwargs)\n"
          ]
        },
        {
          "output_type": "stream",
          "name": "stdout",
          "text": [
            "1522/1522 [==============================] - 42s 27ms/step - loss: 0.2452 - accuracy: 0.8098 - val_loss: 0.1938 - val_accuracy: 0.8429\n",
            "Epoch 2/10\n",
            "1522/1522 [==============================] - 45s 30ms/step - loss: 0.1794 - accuracy: 0.8644 - val_loss: 0.1584 - val_accuracy: 0.8893\n",
            "Epoch 3/10\n",
            "1522/1522 [==============================] - 46s 30ms/step - loss: 0.1611 - accuracy: 0.8791 - val_loss: 0.1540 - val_accuracy: 0.8933\n",
            "Epoch 4/10\n",
            "1522/1522 [==============================] - 41s 27ms/step - loss: 0.1527 - accuracy: 0.8873 - val_loss: 0.1757 - val_accuracy: 0.8749\n",
            "Epoch 5/10\n",
            "1522/1522 [==============================] - 45s 29ms/step - loss: 0.1464 - accuracy: 0.8929 - val_loss: 0.1508 - val_accuracy: 0.8976\n",
            "Epoch 6/10\n",
            "1522/1522 [==============================] - 45s 30ms/step - loss: 0.1431 - accuracy: 0.8953 - val_loss: 0.1420 - val_accuracy: 0.9023\n",
            "Epoch 7/10\n",
            "1522/1522 [==============================] - 45s 30ms/step - loss: 0.1406 - accuracy: 0.8960 - val_loss: 0.1537 - val_accuracy: 0.8965\n",
            "Epoch 8/10\n",
            "1522/1522 [==============================] - 40s 27ms/step - loss: 0.1386 - accuracy: 0.8979 - val_loss: 0.1483 - val_accuracy: 0.8978\n",
            "Epoch 9/10\n",
            "1522/1522 [==============================] - 45s 29ms/step - loss: 0.1369 - accuracy: 0.8988 - val_loss: 0.1538 - val_accuracy: 0.8952\n",
            "Epoch 10/10\n",
            "1522/1522 [==============================] - 45s 30ms/step - loss: 0.1365 - accuracy: 0.8989 - val_loss: 0.1374 - val_accuracy: 0.9068\n"
          ]
        }
      ]
    },
    {
      "cell_type": "code",
      "metadata": {
        "outputId": "c7c3205d-5780-41ac-c43d-b2377c59c113",
        "colab": {
          "base_uri": "https://localhost:8080/"
        },
        "id": "QNTOVyURbu8P"
      },
      "source": [
        "model_validation(model)"
      ],
      "execution_count": 85,
      "outputs": [
        {
          "output_type": "stream",
          "name": "stdout",
          "text": [
            "653/653 [==============================] - 8s 12ms/step - loss: 0.1374 - accuracy: 0.9068\n",
            "Validation loss: 0.1373986303806305\n",
            "Validation accuracy: 0.9068129658699036\n"
          ]
        }
      ]
    },
    {
      "cell_type": "code",
      "source": [
        "accuracy_curves(trained_model1)"
      ],
      "metadata": {
        "colab": {
          "base_uri": "https://localhost:8080/",
          "height": 373
        },
        "id": "7Buy26EqcH1V",
        "outputId": "b4665243-df8e-4e8f-fc70-513825b3f216"
      },
      "execution_count": 86,
      "outputs": [
        {
          "output_type": "stream",
          "name": "stdout",
          "text": [
            "Training Accuracy: 0.8989301919937134\n",
            "Validation Accuracy: 0.9068129658699036\n"
          ]
        },
        {
          "output_type": "display_data",
          "data": {
            "text/plain": [
              "<Figure size 648x360 with 1 Axes>"
            ],
            "image/png": "[encoded data removed]"
          },
          "metadata": {}
        }
      ]
    },
    {
      "cell_type": "code",
      "source": [
        "loss_curves(trained_model1)"
      ],
      "metadata": {
        "colab": {
          "base_uri": "https://localhost:8080/",
          "height": 373
        },
        "id": "8gSPT2pqY1Si",
        "outputId": "65d63dad-9821-4f7e-f4bd-9c7653ccddbd"
      },
      "execution_count": 87,
      "outputs": [
        {
          "output_type": "stream",
          "name": "stdout",
          "text": [
            "Training Loss: 0.13653141260147095\n",
            "Validation Loss: 0.1373986303806305\n"
          ]
        },
        {
          "output_type": "display_data",
          "data": {
            "text/plain": [
              "<Figure size 648x360 with 1 Axes>"
            ],
            "image/png": "[encoded data removed]"
          },
          "metadata": {}
        }
      ]
    },
    {
      "cell_type": "code",
      "source": [
        "filters = 200 # Reducing number of filters and neurons in Convolutional and Fully Connected Layers respectively.\n",
        "kernel_size = 3\n",
        "hidden_dims = 200\n",
        "batch_size = 32\n",
        "n_epochs = 10 # Updating the n_epochs\n",
        "actfn = 'relu'\n",
        "optimizer_ = tf.optimizers.SGD\n",
        "drop_rate = 0.2 # Dropping the drop rate\n",
        "learningrate = 0.02"
      ],
      "metadata": {
        "id": "bqWJPOYki96l"
      },
      "execution_count": 88,
      "outputs": []
    },
    {
      "cell_type": "code",
      "source": [
        "def model2():\n",
        "    \n",
        "    model = Sequential()\n",
        "    \n",
        "    # Embedding layer\n",
        "    model.add(Embedding(max_features, embedding_dim, trainable = False\n",
        "                       ,embeddings_initializer = tf.keras.initializers.Constant(embed_matrix)))    \n",
        "    # First dropout\n",
        "    model.add(Dropout(drop_rate))\n",
        "    \n",
        "    # First convolutional layer (200 Filters, Kernel size 3 * 3, Padding actually not required)\n",
        "    model.add(Conv1D(filters, 3, padding = 'valid', activation = 'relu')) \n",
        "    \n",
        "    # Max pooling layer\n",
        "    model.add(MaxPooling1D())\n",
        "    \n",
        "    # Second convolutional layer (200 Filters, Kernel size 5 * 5, Padding actually not required)\n",
        "    model.add(Conv1D(filters, 5, padding = 'valid', activation = 'relu')) \n",
        "    \n",
        "    # Max pooling layer\n",
        "    model.add(MaxPooling1D())\n",
        "\n",
        "    # Third convolutional layer (200 Filters, Kernel size 7 * 7, )\n",
        "    model.add(Conv1D(filters, 7, padding = 'valid', activation = 'relu'))\n",
        "    \n",
        "    # Global max pooling layer\n",
        "    model.add(GlobalMaxPooling1D())\n",
        "    \n",
        "    # Fully Connected Layer with 200 neurons (processing output from the 200 kernels in 2nd convolutional layer)\n",
        "    model.add(Dense(hidden_dims,activation = 'relu'))\n",
        "    \n",
        "    # Second dropout\n",
        "    model.add(Dropout(drop_rate))\n",
        "    \n",
        "    # final dense layer (Final 7 classifying outcomes, sigmoid activation function to provide probability of sample being of a particular class)\n",
        "    model.add(Dense(7, activation = 'sigmoid'))\n",
        "    \n",
        "    # Binary Cross Entropy since the output of each class is binary value\n",
        "    model.compile(loss = 'binary_crossentropy', optimizer = optimizer_(lr = 0.02), metrics = ['accuracy']) \n",
        "\n",
        "    return model"
      ],
      "metadata": {
        "id": "4VhbOUg-cMJP"
      },
      "execution_count": 89,
      "outputs": []
    },
    {
      "cell_type": "code",
      "source": [
        "# call model_cnn to compile the model\n",
        "model = model2()\n",
        "    \n",
        "# fit the model\n",
        "trained_model2 = model.fit(X_train, y_train,\n",
        "              batch_size = batch_size,\n",
        "              epochs = n_epochs,\n",
        "              validation_data=(X_valid, y_valid))"
      ],
      "metadata": {
        "colab": {
          "base_uri": "https://localhost:8080/"
        },
        "id": "whehcGRnco-l",
        "outputId": "ad3550ac-d2c0-46c7-aa6a-e323f9954599"
      },
      "execution_count": 90,
      "outputs": [
        {
          "output_type": "stream",
          "name": "stdout",
          "text": [
            "Epoch 1/10\n"
          ]
        },
        {
          "output_type": "stream",
          "name": "stderr",
          "text": [
            "/usr/local/lib/python3.7/dist-packages/keras/optimizer_v2/gradient_descent.py:102: UserWarning: The `lr` argument is deprecated, use `learning_rate` instead.\n",
            "  super(SGD, self).__init__(name, **kwargs)\n"
          ]
        },
        {
          "output_type": "stream",
          "name": "stdout",
          "text": [
            "1522/1522 [==============================] - 49s 32ms/step - loss: 0.2682 - accuracy: 0.7876 - val_loss: 0.2102 - val_accuracy: 0.8244\n",
            "Epoch 2/10\n",
            "1522/1522 [==============================] - 47s 31ms/step - loss: 0.1977 - accuracy: 0.8451 - val_loss: 0.1872 - val_accuracy: 0.8496\n",
            "Epoch 3/10\n",
            "1522/1522 [==============================] - 47s 31ms/step - loss: 0.1775 - accuracy: 0.8639 - val_loss: 0.1646 - val_accuracy: 0.8763\n",
            "Epoch 4/10\n",
            "1522/1522 [==============================] - 47s 31ms/step - loss: 0.1674 - accuracy: 0.8729 - val_loss: 0.1620 - val_accuracy: 0.8777\n",
            "Epoch 5/10\n",
            "1522/1522 [==============================] - 50s 33ms/step - loss: 0.1617 - accuracy: 0.8765 - val_loss: 0.1551 - val_accuracy: 0.8839\n",
            "Epoch 6/10\n",
            "1522/1522 [==============================] - 47s 31ms/step - loss: 0.1578 - accuracy: 0.8808 - val_loss: 0.1692 - val_accuracy: 0.8678\n",
            "Epoch 7/10\n",
            "1522/1522 [==============================] - 51s 33ms/step - loss: 0.1547 - accuracy: 0.8835 - val_loss: 0.1522 - val_accuracy: 0.8850\n",
            "Epoch 8/10\n",
            "1522/1522 [==============================] - 47s 31ms/step - loss: 0.1521 - accuracy: 0.8865 - val_loss: 0.1601 - val_accuracy: 0.8817\n",
            "Epoch 9/10\n",
            "1522/1522 [==============================] - 47s 31ms/step - loss: 0.1505 - accuracy: 0.8878 - val_loss: 0.1627 - val_accuracy: 0.8771\n",
            "Epoch 10/10\n",
            "1522/1522 [==============================] - 51s 33ms/step - loss: 0.1489 - accuracy: 0.8897 - val_loss: 0.1469 - val_accuracy: 0.8895\n"
          ]
        }
      ]
    },
    {
      "cell_type": "code",
      "source": [
        "model_validation(model)"
      ],
      "metadata": {
        "colab": {
          "base_uri": "https://localhost:8080/"
        },
        "id": "K_nC7bt2fpT8",
        "outputId": "897dc958-1b3d-43cd-a0d0-0d3aef978665"
      },
      "execution_count": 91,
      "outputs": [
        {
          "output_type": "stream",
          "name": "stdout",
          "text": [
            "653/653 [==============================] - 7s 11ms/step - loss: 0.1469 - accuracy: 0.8895\n",
            "Validation loss: 0.14693564176559448\n",
            "Validation accuracy: 0.889517068862915\n"
          ]
        }
      ]
    },
    {
      "cell_type": "code",
      "source": [
        "accuracy_curves(trained_model2)"
      ],
      "metadata": {
        "colab": {
          "base_uri": "https://localhost:8080/",
          "height": 373
        },
        "id": "hm3CuFXrfyt4",
        "outputId": "a9400bdc-7988-4f66-89ac-560a047fc2ee"
      },
      "execution_count": 92,
      "outputs": [
        {
          "output_type": "stream",
          "name": "stdout",
          "text": [
            "Training Accuracy: 0.8897308111190796\n",
            "Validation Accuracy: 0.889517068862915\n"
          ]
        },
        {
          "output_type": "display_data",
          "data": {
            "text/plain": [
              "<Figure size 648x360 with 1 Axes>"
            ],
            "image/png": "[encoded data removed]"
          },
          "metadata": {}
        }
      ]
    },
    {
      "cell_type": "code",
      "source": [
        "loss_curves(trained_model2)"
      ],
      "metadata": {
        "colab": {
          "base_uri": "https://localhost:8080/",
          "height": 373
        },
        "id": "Z-jRCeGRbn5n",
        "outputId": "23fe58f6-f01f-47b3-d02f-2ea545af0ff4"
      },
      "execution_count": 93,
      "outputs": [
        {
          "output_type": "stream",
          "name": "stdout",
          "text": [
            "Training Loss: 0.1489182859659195\n",
            "Validation Loss: 0.14693564176559448\n"
          ]
        },
        {
          "output_type": "display_data",
          "data": {
            "text/plain": [
              "<Figure size 648x360 with 1 Axes>"
            ],
            "image/png": "[encoded data removed]"
          },
          "metadata": {}
        }
      ]
    },
    {
      "cell_type": "code",
      "source": [
        "filters = 100 # Reducing number of filters and neurons in Convolutional and Fully Connected Layers respectively.\n",
        "kernel_size = 3\n",
        "hidden_dims = 100\n",
        "batch_size = 32\n",
        "n_epochs = 10 # Updating the n_epochs\n",
        "actfn = 'relu'\n",
        "optimizer_ = tf.optimizers.SGD\n",
        "drop_rate = 0.2 # Dropping the drop rate\n",
        "learningrate = 0.02"
      ],
      "metadata": {
        "id": "swqlZVAtj7Db"
      },
      "execution_count": 94,
      "outputs": []
    },
    {
      "cell_type": "code",
      "source": [
        "def model3():\n",
        "    \n",
        "    model = Sequential()\n",
        "    \n",
        "    # Embedding layer\n",
        "    model.add(Embedding(max_features, embedding_dim, trainable = False\n",
        "                       ,embeddings_initializer = tf.keras.initializers.Constant(embed_matrix)))    \n",
        "    # First dropout\n",
        "    model.add(Dropout(drop_rate))\n",
        "    \n",
        "    # First convolutional layer (100 Filters, Kernel size 3 * 3, Padding actually not required)\n",
        "    model.add(Conv1D(filters, 3, padding = 'valid', activation = 'relu')) \n",
        "    \n",
        "    # Max pooling layer\n",
        "    model.add(MaxPooling1D())\n",
        "    \n",
        "    # Second convolutional layer (100 Filters, Kernel size 3 * 3, Padding actually not required)\n",
        "    model.add(Conv1D(filters, 3, padding = 'valid', activation = 'relu')) \n",
        "    \n",
        "    # Max pooling layer\n",
        "    model.add(MaxPooling1D())\n",
        "\n",
        "     # Second convolutional layer (100 Filters, Kernel size 5 * 5, Padding actually not required)\n",
        "    model.add(Conv1D(filters, 5, padding = 'valid', activation = 'relu')) \n",
        "    \n",
        "    # Max pooling layer\n",
        "    model.add(MaxPooling1D())\n",
        "\n",
        "    # Third convolutional layer (100 Filters, Kernel size 7 * 7)\n",
        "    model.add(Conv1D(filters, 7, padding = 'valid', activation = 'relu'))\n",
        "    \n",
        "    # Global max pooling layer\n",
        "    model.add(GlobalMaxPooling1D())\n",
        "    \n",
        "    # Fully Connected Layer with 100 neurons (processing output from the 250 kernels in 2nd convolutional layer)\n",
        "    model.add(Dense(hidden_dims,activation = 'relu'))\n",
        "    \n",
        "    # Second dropout\n",
        "    model.add(Dropout(drop_rate))\n",
        "    \n",
        "    # final dense layer (Final 7 classifying outcomes, sigmoid activation function to provide probability of sample being of a particular class)\n",
        "    model.add(Dense(7, activation = 'sigmoid'))\n",
        "    \n",
        "    # Binary Cross Entropy since the output of each class is binary value\n",
        "    model.compile(loss = 'binary_crossentropy', optimizer = optimizer_(lr = 0.02), metrics = ['accuracy'])  \n",
        "\n",
        "    return model"
      ],
      "metadata": {
        "id": "njjSbyBCgYCe"
      },
      "execution_count": 95,
      "outputs": []
    },
    {
      "cell_type": "code",
      "source": [
        "# call model_cnn to compile the model\n",
        "model = model3()\n",
        "    \n",
        "# fit the model\n",
        "trained_model3 = model.fit(X_train, y_train,\n",
        "              batch_size = batch_size,\n",
        "              epochs = n_epochs,\n",
        "              validation_data=(X_valid, y_valid))"
      ],
      "metadata": {
        "colab": {
          "base_uri": "https://localhost:8080/"
        },
        "id": "NkGzvGqPhJRq",
        "outputId": "cb3f88cf-7471-46b6-c216-112f63cd6775"
      },
      "execution_count": 96,
      "outputs": [
        {
          "output_type": "stream",
          "name": "stdout",
          "text": [
            "Epoch 1/10\n"
          ]
        },
        {
          "output_type": "stream",
          "name": "stderr",
          "text": [
            "/usr/local/lib/python3.7/dist-packages/keras/optimizer_v2/gradient_descent.py:102: UserWarning: The `lr` argument is deprecated, use `learning_rate` instead.\n",
            "  super(SGD, self).__init__(name, **kwargs)\n"
          ]
        },
        {
          "output_type": "stream",
          "name": "stdout",
          "text": [
            "1522/1522 [==============================] - 30s 18ms/step - loss: 0.3014 - accuracy: 0.7660 - val_loss: 0.2542 - val_accuracy: 0.7670\n",
            "Epoch 2/10\n",
            "1522/1522 [==============================] - 26s 17ms/step - loss: 0.2356 - accuracy: 0.7988 - val_loss: 0.2172 - val_accuracy: 0.8141\n",
            "Epoch 3/10\n",
            "1522/1522 [==============================] - 27s 17ms/step - loss: 0.2122 - accuracy: 0.8272 - val_loss: 0.2052 - val_accuracy: 0.8294\n",
            "Epoch 4/10\n",
            "1522/1522 [==============================] - 26s 17ms/step - loss: 0.1997 - accuracy: 0.8415 - val_loss: 0.1910 - val_accuracy: 0.8465\n",
            "Epoch 5/10\n",
            "1522/1522 [==============================] - 28s 18ms/step - loss: 0.1926 - accuracy: 0.8474 - val_loss: 0.1889 - val_accuracy: 0.8485\n",
            "Epoch 6/10\n",
            "1522/1522 [==============================] - 26s 17ms/step - loss: 0.1874 - accuracy: 0.8500 - val_loss: 0.1867 - val_accuracy: 0.8496\n",
            "Epoch 7/10\n",
            "1522/1522 [==============================] - 26s 17ms/step - loss: 0.1855 - accuracy: 0.8523 - val_loss: 0.1904 - val_accuracy: 0.8466\n",
            "Epoch 8/10\n",
            "1522/1522 [==============================] - 27s 18ms/step - loss: 0.1825 - accuracy: 0.8563 - val_loss: 0.1903 - val_accuracy: 0.8486\n",
            "Epoch 9/10\n",
            "1522/1522 [==============================] - 27s 18ms/step - loss: 0.1813 - accuracy: 0.8567 - val_loss: 0.1824 - val_accuracy: 0.8552\n",
            "Epoch 10/10\n",
            "1522/1522 [==============================] - 26s 17ms/step - loss: 0.1793 - accuracy: 0.8580 - val_loss: 0.1784 - val_accuracy: 0.8587\n"
          ]
        }
      ]
    },
    {
      "cell_type": "code",
      "source": [
        "model_validation(model)"
      ],
      "metadata": {
        "colab": {
          "base_uri": "https://localhost:8080/"
        },
        "id": "IcsS-de9ntbL",
        "outputId": "43a69d10-45eb-49d0-cfca-d902406867dc"
      },
      "execution_count": 104,
      "outputs": [
        {
          "output_type": "stream",
          "name": "stdout",
          "text": [
            "Validation set\n",
            "loss: 0.17720536887645721\n",
            "accuracy: 0.8600996732711792\n"
          ]
        }
      ]
    },
    {
      "cell_type": "code",
      "source": [
        "accuracy_curves(trained_model3)"
      ],
      "metadata": {
        "colab": {
          "base_uri": "https://localhost:8080/",
          "height": 373
        },
        "id": "GLGJz65gnyUa",
        "outputId": "ab61fe14-23a8-4616-8b73-1b41edde9c7c"
      },
      "execution_count": 140,
      "outputs": [
        {
          "output_type": "stream",
          "name": "stdout",
          "text": [
            "Training Accuracy: 0.8580463528633118\n",
            "Validation Accuracy: 0.8587102293968201\n"
          ]
        },
        {
          "output_type": "display_data",
          "data": {
            "text/plain": [
              "<Figure size 648x360 with 1 Axes>"
            ],
            "image/png": "[encoded data removed]"
          },
          "metadata": {}
        }
      ]
    },
    {
      "cell_type": "code",
      "source": [
        "loss_curves(trained_model3)"
      ],
      "metadata": {
        "colab": {
          "base_uri": "https://localhost:8080/",
          "height": 373
        },
        "id": "UMl46aDuuzNd",
        "outputId": "8899e283-b940-4118-ed34-09600f73db15"
      },
      "execution_count": 141,
      "outputs": [
        {
          "output_type": "stream",
          "name": "stdout",
          "text": [
            "Training Loss: 0.1793222874403\n",
            "Validation Loss: 0.17840494215488434\n"
          ]
        },
        {
          "output_type": "display_data",
          "data": {
            "text/plain": [
              "<Figure size 648x360 with 1 Axes>"
            ],
            "image/png": "[encoded data removed]"
          },
          "metadata": {}
        }
      ]
    },
    {
      "cell_type": "code",
      "metadata": {
        "id": "aDM3e_6yRb3l"
      },
      "source": [
        "y_test[y_test<0] = 0"
      ],
      "execution_count": 129,
      "outputs": []
    },
    {
      "cell_type": "code",
      "metadata": {
        "id": "l9xpLnwgrkWW",
        "outputId": "82a1a769-6455-4a77-a960-ae6278938e21",
        "colab": {
          "base_uri": "https://localhost:8080/"
        }
      },
      "source": [
        "#Testing Loss, Accuracy\n",
        "model.evaluate(X_test_final, y_test, verbose = 1)"
      ],
      "execution_count": 130,
      "outputs": [
        {
          "output_type": "stream",
          "name": "stdout",
          "text": [
            "2000/2000 [==============================] - 20s 10ms/step - loss: 0.1506 - accuracy: 0.8744\n"
          ]
        },
        {
          "output_type": "execute_result",
          "data": {
            "text/plain": [
              "[0.15061378479003906, 0.8743630647659302]"
            ]
          },
          "metadata": {},
          "execution_count": 130
        }
      ]
    },
    {
      "cell_type": "code",
      "metadata": {
        "id": "4u5at1KRsHEU",
        "outputId": "dc2b2c46-4f91-4389-8be1-a6c8f1e7ed59",
        "colab": {
          "base_uri": "https://localhost:8080/"
        }
      },
      "source": [
        "# predict test values\n",
        "y_pred = model.predict(X_test_final, verbose = 1, batch_size = 32)"
      ],
      "execution_count": 131,
      "outputs": [
        {
          "output_type": "stream",
          "name": "stdout",
          "text": [
            "2000/2000 [==============================] - 11s 5ms/step\n"
          ]
        }
      ]
    },
    {
      "cell_type": "code",
      "metadata": {
        "id": "FekJP1ybVmvN",
        "outputId": "281fc3e2-9794-499f-d057-a0f16ff920c4",
        "colab": {
          "base_uri": "https://localhost:8080/"
        }
      },
      "source": [
        "y_pred[0:3]"
      ],
      "execution_count": 100,
      "outputs": [
        {
          "output_type": "execute_result",
          "data": {
            "text/plain": [
              "array([[4.8502870e-02, 1.4451775e-03, 1.7949073e-02, 4.9931608e-04,\n",
              "        1.5606890e-02, 2.2970801e-03, 9.4728529e-01],\n",
              "       [2.8965163e-01, 3.2052983e-02, 1.6736844e-01, 1.4505365e-02,\n",
              "        1.5253882e-01, 3.6762238e-02, 6.9295508e-01],\n",
              "       [5.5408716e-01, 1.0630538e-02, 2.2412913e-01, 9.0589924e-03,\n",
              "        2.0084865e-01, 2.1679996e-02, 3.5124826e-01]], dtype=float32)"
            ]
          },
          "metadata": {},
          "execution_count": 100
        }
      ]
    },
    {
      "cell_type": "code",
      "metadata": {
        "id": "JPy0Evu7RyRk",
        "outputId": "bc3c5955-df65-470d-a44f-961010bcc449",
        "colab": {
          "base_uri": "https://localhost:8080/"
        }
      },
      "source": [
        "find = np.where(y_test[:, :6] == 1)\n",
        "print(find)"
      ],
      "execution_count": 101,
      "outputs": [
        {
          "output_type": "stream",
          "name": "stdout",
          "text": [
            "(array([    8,    24,    24, ..., 63976, 63976, 63976]), array([0, 0, 2, ..., 0, 2, 4]))\n"
          ]
        }
      ]
    },
    {
      "cell_type": "code",
      "metadata": {
        "id": "n-7eFwYRSnCt",
        "outputId": "ed057592-dee9-44d6-8db5-91fe9b637aca",
        "colab": {
          "base_uri": "https://localhost:8080/"
        }
      },
      "source": [
        "i = 0\n",
        "for i in range(7):\n",
        "    print(y_test[24][i], \":\", y_pred[24][i])"
      ],
      "execution_count": 110,
      "outputs": [
        {
          "output_type": "stream",
          "name": "stdout",
          "text": [
            "1 : 0.8491843\n",
            "0 : 0.09757908\n",
            "1 : 0.5732493\n",
            "0 : 0.037182797\n",
            "1 : 0.5187221\n",
            "1 : 0.08377286\n",
            "0 : 0.12627529\n"
          ]
        }
      ]
    },
    {
      "cell_type": "code",
      "metadata": {
        "id": "lXeA3yoVS_Ye",
        "outputId": "d6a7f214-ed88-44d0-8400-c50741d2cd98",
        "colab": {
          "base_uri": "https://localhost:8080/"
        }
      },
      "source": [
        "print(test[\"comment_text\"][21])\n",
        "i = 0\n",
        "for i in range(7):\n",
        "    print(y_test[24][i], \":\", y_pred[21][i])"
      ],
      "execution_count": 108,
      "outputs": [
        {
          "output_type": "stream",
          "name": "stdout",
          "text": [
            " arabs are committing genocide in iraq but no protests in europe may europe also burn in hell\n",
            "1 : 0.036068298\n",
            "0 : 0.00095362356\n",
            "1 : 0.013589838\n",
            "0 : 0.0002594205\n",
            "1 : 0.010997554\n",
            "1 : 0.0015826782\n",
            "0 : 0.960015\n"
          ]
        }
      ]
    }
  ]
}